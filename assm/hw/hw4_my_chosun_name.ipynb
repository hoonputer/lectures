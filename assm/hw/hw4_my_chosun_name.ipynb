{
 "cells": [
  {
   "cell_type": "code",
   "execution_count": 11,
   "id": "d62e6c82",
   "metadata": {},
   "outputs": [
    {
     "name": "stdout",
     "output_type": "stream",
     "text": [
      "['쌍', '쇠', '복', '돌', '펭', '육', '쌍', '개', '칠', '갑', '삼', '방']\n",
      "['봉', '구', '욕', '포', '똥', '삼', '식', '석', '놈', '님', '년', '돌', '단', '득', '방', '질', '장', '걸', '래', '룡', '동', '순', '자', '박', '창', '언', '것', '포', '민', '단', '국']\n",
      "당신의 조선시대 이름은 김방득 입니다.\n"
     ]
    }
   ],
   "source": [
    "month_name = [\"쌍\", \"쇠\", \"복\", \"돌\", \"펭\", \"육\", \"쌍\", \"개\", \"칠\", \"갑\", \"삼\", \"방\"]\n",
    "\n",
    "print(month_name)\n",
    "\n",
    "day_name = [\"봉\", \"구\", \"욕\", \"포\", \"똥\", \"삼\", \"식\", \"석\", \"놈\", \"님\", \"년\", \"돌\", \"단\", \"득\", \"방\", \"질\", \"장\", \"걸\", \"래\", \"룡\", \"동\", \"순\", \"자\", \"박\", \"창\", \"언\", \"것\", \"포\", \"민\", \"단\", \"국\"]\n",
    "\n",
    "print(day_name)\n",
    "\n",
    "def get_my_chosun_name(family_name, month, day):\n",
    "    print(\"당신의 조선시대 이름은 \" + family_name + month_name[month-1] + day_name[day-1] + \" 입니다.\")\n",
    "\n",
    "get_my_chosun_name('김', 12, 14)"
   ]
  },
  {
   "cell_type": "code",
   "execution_count": null,
   "id": "044b46e3",
   "metadata": {},
   "outputs": [],
   "source": []
  }
 ],
 "metadata": {
  "kernelspec": {
   "display_name": "Python 3",
   "language": "python",
   "name": "python3"
  },
  "language_info": {
   "codemirror_mode": {
    "name": "ipython",
    "version": 3
   },
   "file_extension": ".py",
   "mimetype": "text/x-python",
   "name": "python",
   "nbconvert_exporter": "python",
   "pygments_lexer": "ipython3",
   "version": "3.8.8"
  }
 },
 "nbformat": 4,
 "nbformat_minor": 5
}
