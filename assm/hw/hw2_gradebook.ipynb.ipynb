{
 "cells": [
  {
   "cell_type": "code",
   "execution_count": 84,
   "id": "113e3806",
   "metadata": {},
   "outputs": [
    {
     "name": "stdout",
     "output_type": "stream",
     "text": [
      "[['politics', 80], ['latin', 96], ['dance', 97], ['architecture', 65], ['physics', 98], ['calculis', 97], ['poetry', 'Pass'], ['history', 88], ['computer science', 100], ['visual arts', 98]]\n"
     ]
    }
   ],
   "source": [
    "subjects = [\"physics\", \"calculus\", \"poetry\", \"history\"]\n",
    "grades = [98, 97, 85, 88,]\n",
    "gradebook = [['physics',98],['calculis',97],['poetry',85],['history',88]]\n",
    "\n",
    "class1 = ['computer science', 100]\n",
    "class2 = ['visual arts', 93]\n",
    "\n",
    "\n",
    "gradebook.append(class1)\n",
    "gradebook.append(class2)\n",
    "\n",
    "class2.remove(93)\n",
    "class2.append(98)\n",
    "\n",
    "gradebook[2].remove(85)\n",
    "gradebook[2].append('Pass')\n",
    "\n",
    "\n",
    "subjrcts = [\"politics\", \"latin\", \"dance\", \"architecture\"]\n",
    "grades = [80, 96, 97, 65]\n",
    "last_semester_gradebook = [['politics',80],['latin',96],['dance',97],['architecture',65]]\n",
    "\n",
    "\n",
    "full_semester_gradebook = last_semester_gradebook + gradebook\n",
    "\n",
    "print(full_semester_gradebook)\n"
   ]
  },
  {
   "cell_type": "code",
   "execution_count": null,
   "id": "3e865536",
   "metadata": {},
   "outputs": [],
   "source": []
  },
  {
   "cell_type": "code",
   "execution_count": null,
   "id": "2282d4c5",
   "metadata": {},
   "outputs": [],
   "source": []
  }
 ],
 "metadata": {
  "kernelspec": {
   "display_name": "Python 3",
   "language": "python",
   "name": "python3"
  },
  "language_info": {
   "codemirror_mode": {
    "name": "ipython",
    "version": 3
   },
   "file_extension": ".py",
   "mimetype": "text/x-python",
   "name": "python",
   "nbconvert_exporter": "python",
   "pygments_lexer": "ipython3",
   "version": "3.8.8"
  }
 },
 "nbformat": 4,
 "nbformat_minor": 5
}
