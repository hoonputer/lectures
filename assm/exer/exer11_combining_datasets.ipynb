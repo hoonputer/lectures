{
 "cells": [
  {
   "cell_type": "code",
   "execution_count": 3,
   "id": "be0f1246-817b-419c-8fc0-a8cffb3c61f4",
   "metadata": {},
   "outputs": [],
   "source": [
    "import pandas as pd\n",
    "import numpy as np"
   ]
  },
  {
   "cell_type": "code",
   "execution_count": 6,
   "id": "cfde2421-a87b-4895-a492-6e883885939f",
   "metadata": {},
   "outputs": [
    {
     "name": "stdout",
     "output_type": "stream",
     "text": [
      "[[1 2 3]\n",
      " [4 5 6]\n",
      " [7 8 9]]\n"
     ]
    }
   ],
   "source": [
    "\"\"\"\n",
    "    numpy.concatenate()\n",
    "\"\"\"\n",
    "x = [1,2,3]\n",
    "y = [4,5,6]\n",
    "z = [7,8,9]\n",
    "\n",
    "np.concatenate([x, y, z])\n",
    "# vstack(): concatenate vertically\n",
    "# hstack(): concatenate horizontally\n",
    "\n",
    "print(np.vstack([x, y, z]))"
   ]
  },
  {
   "cell_type": "code",
   "execution_count": 8,
   "id": "923bedff-5908-44f2-95fb-07772e36745d",
   "metadata": {},
   "outputs": [
    {
     "name": "stdout",
     "output_type": "stream",
     "text": [
      "4    D\n",
      "5    E\n",
      "6    F\n",
      "1    A\n",
      "2    B\n",
      "3    C\n",
      "dtype: object\n"
     ]
    }
   ],
   "source": [
    "\"\"\"\n",
    "    pandas.concat()\n",
    "\"\"\"\n",
    "\n",
    "ser1 = pd.Series(['A', 'B', 'C'], index = [1, 2, 3])\n",
    "ser2 = pd.Series(['D', 'E', 'F'], index = [4, 5, 6])\n",
    "\n",
    "print(pd.concat([ser2, ser1]))\n",
    "\n",
    "# Simply concatenate the two Series objects"
   ]
  },
  {
   "cell_type": "code",
   "execution_count": 9,
   "id": "ad6ae333-1711-43af-9c59-bc887b8f4818",
   "metadata": {},
   "outputs": [
    {
     "name": "stdout",
     "output_type": "stream",
     "text": [
      "    A   B   C\n",
      "1  A1  B1  C1\n",
      "2  A2  B2  C2\n"
     ]
    }
   ],
   "source": [
    "# make_df(): create a DataFrame object\n",
    "def make_df(cols, ind):\n",
    "    data = {c: [str(c) + str(i) for i in ind]\n",
    "           for c in cols}\n",
    "    \n",
    "    return pd.DataFrame(data, ind)\n",
    "\n",
    "print(make_df('ABC', [1,2]))"
   ]
  },
  {
   "cell_type": "code",
   "execution_count": 11,
   "id": "5dd98de4-7bbb-4759-8cd8-4fd0d21d567c",
   "metadata": {},
   "outputs": [
    {
     "name": "stdout",
     "output_type": "stream",
     "text": [
      "    A   B\n",
      "1  A1  B1\n",
      "2  A2  B2 \n",
      "\n",
      "    A   B\n",
      "3  A3  B3\n",
      "4  A4  B4 \n",
      "\n",
      "    A   B\n",
      "1  A1  B1\n",
      "2  A2  B2\n",
      "3  A3  B3\n",
      "4  A4  B4\n"
     ]
    }
   ],
   "source": [
    "# Concatenate the two DataFrame objects\n",
    "\n",
    "df1 = make_df('AB', [1, 2])\n",
    "df2 = make_df('AB', [3, 4])\n",
    "\n",
    "print(df1, '\\n')\n",
    "print(df2, '\\n')\n",
    "\n",
    "print(pd.concat([df1, df2]))"
   ]
  },
  {
   "cell_type": "code",
   "execution_count": 14,
   "id": "29ea5d3a-de6e-4ba4-aeb0-c0f177f0a0f5",
   "metadata": {},
   "outputs": [
    {
     "name": "stdout",
     "output_type": "stream",
     "text": [
      "    A   B\n",
      "0  A0  B0\n",
      "1  A1  B1 \n",
      "\n",
      "    C   D\n",
      "0  C0  D0\n",
      "1  C1  D1 \n",
      "\n",
      "     A    B    C    D\n",
      "0   A0   B0  NaN  NaN\n",
      "1   A1   B1  NaN  NaN\n",
      "0  NaN  NaN   C0   D0\n",
      "1  NaN  NaN   C1   D1\n"
     ]
    }
   ],
   "source": [
    "df3 = make_df('AB', [0, 1])\n",
    "df4 = make_df('CD', [0, 1])\n",
    "\n",
    "print(df3, '\\n')\n",
    "print(df4, '\\n')\n",
    "\n",
    "print(pd.concat([df3, df4], axis = 0))"
   ]
  },
  {
   "cell_type": "code",
   "execution_count": 16,
   "id": "59add6dc-9f13-4022-8bb8-69948daf18dc",
   "metadata": {},
   "outputs": [
    {
     "name": "stdout",
     "output_type": "stream",
     "text": [
      "    A   B\n",
      "0  A0  B0\n",
      "1  A1  B1 \n",
      "\n",
      "    A   B\n",
      "0  A2  B2\n",
      "1  A3  B3 \n",
      "\n"
     ]
    }
   ],
   "source": [
    "\"\"\"\n",
    "    concate() Features\n",
    "\"\"\"\n",
    "\n",
    "# Case 1: Duplicate indices\n",
    "\n",
    "x = make_df('AB', [0, 1])\n",
    "y = make_df('AB', [2, 3])\n",
    "\n",
    "y.index = x.index\n",
    "\n",
    "print(x, '\\n')\n",
    "print(y, '\\n')"
   ]
  },
  {
   "cell_type": "code",
   "execution_count": 18,
   "id": "e4ed0e58-592a-4440-9984-a812ddb45575",
   "metadata": {},
   "outputs": [
    {
     "name": "stdout",
     "output_type": "stream",
     "text": [
      "ValueError:  Indexes have overlapping values: Int64Index([0, 1], dtype='int64')\n"
     ]
    }
   ],
   "source": [
    "# Case 2: Catching duplications as errors\n",
    "\n",
    "try:\n",
    "    pd.concat([x,y], verify_integrity = True)\n",
    "\n",
    "except ValueError as e:\n",
    "    print(\"ValueError: \", e)"
   ]
  },
  {
   "cell_type": "code",
   "execution_count": 20,
   "id": "1855cc3a-660c-4b36-a57c-e2a2e3e6e169",
   "metadata": {},
   "outputs": [
    {
     "name": "stdout",
     "output_type": "stream",
     "text": [
      "    A   B\n",
      "0  A0  B0\n",
      "1  A1  B1\n",
      "2  A2  B2\n",
      "3  A3  B3\n"
     ]
    }
   ],
   "source": [
    "# Case 3: Ignore the index:\n",
    "\n",
    "print(pd.concat([x,y], ignore_index = True))"
   ]
  },
  {
   "cell_type": "code",
   "execution_count": 21,
   "id": "9802a95e-a731-4eca-b97c-486b57598049",
   "metadata": {},
   "outputs": [],
   "source": [
    "# Case 4: Adding multiindex keys (hierarchical indexing)"
   ]
  },
  {
   "cell_type": "code",
   "execution_count": 25,
   "id": "4aba6a97-848b-4ce3-b56d-247a4ee0626c",
   "metadata": {},
   "outputs": [
    {
     "name": "stdout",
     "output_type": "stream",
     "text": [
      "    A   B   C\n",
      "1  A1  B1  C1\n",
      "2  A2  B2  C2 \n",
      "\n",
      "    A   B   C\n",
      "3  A3  B3  C3\n",
      "4  A4  B4  C4 \n",
      "\n",
      "    A   B   C\n",
      "1  A1  B1  C1\n",
      "2  A2  B2  C2\n",
      "3  A3  B3  C3\n",
      "4  A4  B4  C4\n"
     ]
    }
   ],
   "source": [
    "\"\"\"\n",
    "    concat(): join options\n",
    "\"\"\"\n",
    "\n",
    "x = make_df('ABC', [1, 2])\n",
    "y = make_df('ABC', [3, 4])\n",
    "\n",
    "# default: outer join -> union\n",
    "\n",
    "print(x, '\\n')\n",
    "print(y, '\\n')\n",
    "\n",
    "print(pd.concat([x,y], join = 'inner'))"
   ]
  },
  {
   "cell_type": "code",
   "execution_count": null,
   "id": "62200748-9c12-40eb-97fc-1098a3f801e5",
   "metadata": {},
   "outputs": [],
   "source": [
    "# inner join -> intersectio n"
   ]
  },
  {
   "cell_type": "code",
   "execution_count": 26,
   "id": "cdfd41a3-1d49-4bc8-be2d-8fb7f542c465",
   "metadata": {},
   "outputs": [],
   "source": [
    "# append()"
   ]
  },
  {
   "cell_type": "code",
   "execution_count": 27,
   "id": "1e9f3fbf-0080-412b-8f97-bc1c547a05f0",
   "metadata": {},
   "outputs": [
    {
     "name": "stdout",
     "output_type": "stream",
     "text": [
      "  employee        group\n",
      "0      Bob   Accounting\n",
      "1     Jake  Engineering\n",
      "2     Lisa  Engineering\n",
      "3      Sue           HR \n",
      "\n",
      "  employee  hire_date\n",
      "0      Bob       2004\n",
      "1     Jake       2008\n",
      "2     Lisa       2012\n",
      "3      Sue       2014\n"
     ]
    }
   ],
   "source": [
    "\"\"\"\n",
    "    Join operations\n",
    "\"\"\"\n",
    "\n",
    "# Prepare the two DataFrame objects\n",
    "\n",
    "df1 = pd.DataFrame({'employee': ['Bob', 'Jake', 'Lisa', 'Sue'],\n",
    "                    'group': ['Accounting', 'Engineering', 'Engineering', 'HR']})\n",
    "\n",
    "df2 = pd.DataFrame({'employee': ['Bob', 'Jake', 'Lisa', 'Sue'],\n",
    "                    'hire_date': [2004, 2008, 2012, 2014]})\n",
    "\n",
    "print(df1, '\\n')\n",
    "print(df2)"
   ]
  },
  {
   "cell_type": "code",
   "execution_count": 28,
   "id": "6e272ba1-71f1-4e42-8de9-e3c630a69bc4",
   "metadata": {},
   "outputs": [
    {
     "name": "stdout",
     "output_type": "stream",
     "text": [
      "  employee        group  hire_date\n",
      "0      Bob   Accounting       2004\n",
      "1     Jake  Engineering       2008\n",
      "2     Lisa  Engineering       2012\n",
      "3      Sue           HR       2014\n"
     ]
    }
   ],
   "source": [
    "# One-to-one joins\n",
    "\n",
    "df3 = pd.merge(df1, df2)\n",
    "print(df3)"
   ]
  },
  {
   "cell_type": "code",
   "execution_count": 34,
   "id": "0e86bf81-639a-4499-9d4c-685c5d32dc79",
   "metadata": {},
   "outputs": [
    {
     "name": "stdout",
     "output_type": "stream",
     "text": [
      "  employee        group  hire_date\n",
      "0      Bob   Accounting       2004\n",
      "1     Jake  Engineering       2008\n",
      "2     Lisa  Engineering       2012\n",
      "3      Sue           HR       2014 \n",
      "\n",
      "         group supervisor\n",
      "0   Accounting      Carly\n",
      "1  Engineering      Guido\n",
      "2           HR      Steve \n",
      "\n",
      "  employee        group  hire_date supervisor\n",
      "0      Bob   Accounting       2004      Carly\n",
      "1     Jake  Engineering       2008      Guido\n",
      "2     Lisa  Engineering       2012      Guido\n",
      "3      Sue           HR       2014      Steve\n"
     ]
    }
   ],
   "source": [
    "# Many-to-one joins\n",
    "df4 = pd.DataFrame({'group': ['Accounting', 'Engineering', 'HR'],\n",
    "                    'supervisor': ['Carly', 'Guido', 'Steve']})\n",
    "\n",
    "print(df3, '\\n')\n",
    "print(df4, '\\n')\n",
    "\n",
    "print(pd.merge(df3,df4))"
   ]
  },
  {
   "cell_type": "code",
   "execution_count": 36,
   "id": "25aee87e-97e6-49d1-976b-209a5193b321",
   "metadata": {},
   "outputs": [
    {
     "name": "stdout",
     "output_type": "stream",
     "text": [
      "  employee        group\n",
      "0      Bob   Accounting\n",
      "1     Jake  Engineering\n",
      "2     Lisa  Engineering\n",
      "3      Sue           HR \n",
      "\n",
      "         group        skills\n",
      "0   Accounting          math\n",
      "1   Accounting  spreadsheets\n",
      "2  Engineering        coding\n",
      "3  Engineering         linux\n",
      "4           HR  spreadsheets\n",
      "5           HR  organization \n",
      "\n",
      "  employee        group        skills\n",
      "0      Bob   Accounting          math\n",
      "1      Bob   Accounting  spreadsheets\n",
      "2     Jake  Engineering        coding\n",
      "3     Jake  Engineering         linux\n",
      "4     Lisa  Engineering        coding\n",
      "5     Lisa  Engineering         linux\n",
      "6      Sue           HR  spreadsheets\n",
      "7      Sue           HR  organization\n"
     ]
    }
   ],
   "source": [
    "# Many-to-many joins\n",
    "\n",
    "df5 = pd.DataFrame({'group': ['Accounting', 'Accounting',\n",
    "                              'Engineering', 'Engineering', 'HR', 'HR'],\n",
    "                    'skills': ['math', 'spreadsheets', 'coding', 'linux',\n",
    "                               'spreadsheets', 'organization']})\n",
    "\n",
    "print(df1, '\\n')\n",
    "print(df5, '\\n')\n",
    "\n",
    "print(pd.merge(df1,df5))"
   ]
  },
  {
   "cell_type": "code",
   "execution_count": 39,
   "id": "d1704329-5e35-43ab-90fd-e58dd8d9eeb5",
   "metadata": {},
   "outputs": [
    {
     "name": "stdout",
     "output_type": "stream",
     "text": [
      "  employee        group  age\n",
      "0      Bob   Accounting   20\n",
      "1     Jake  Engineering   42\n",
      "2     Lisa  Engineering   37\n",
      "3      Sue           HR   25 \n",
      "\n",
      "  employee  hire_date  age\n",
      "0      Bob       2004   37\n",
      "1     Jake       2008   20\n",
      "2     Lisa       2012   42\n",
      "3      Sue       2014   25 \n",
      "\n",
      "  employee        group  age\n",
      "0      Bob   Accounting   20\n",
      "1     Jake  Engineering   42\n",
      "2     Lisa  Engineering   37\n",
      "3      Sue           HR   25 \n",
      "\n",
      "  employee  hire_date  age\n",
      "0      Bob       2004   37\n",
      "1     Jake       2008   20\n",
      "2     Lisa       2012   42\n",
      "3      Sue       2014   25 \n",
      "\n",
      "  employee        group  age_x  hire_date  age_y\n",
      "0      Bob   Accounting     20       2004     37\n",
      "1     Jake  Engineering     42       2008     20\n",
      "2     Lisa  Engineering     37       2012     42\n",
      "3      Sue           HR     25       2014     25\n"
     ]
    }
   ],
   "source": [
    "# Specification of the Merge Key\n",
    "\n",
    "# 'on' argument: use a common column as merge key\n",
    "\n",
    "print(df1, '\\n')\n",
    "print(df2, '\\n')\n",
    "\n",
    "df1['age'] = pd.Series([20, 42, 37, 25])\n",
    "df2['age'] = pd.Series([37, 20, 42, 25])\n",
    "\n",
    "print(df1, '\\n')\n",
    "print(df2, '\\n')\n",
    "\n",
    "print(pd.merge(df1, df2, on = 'employee'))"
   ]
  },
  {
   "cell_type": "code",
   "execution_count": 43,
   "id": "d9f38228-2d99-40b7-a1c3-50d037db1817",
   "metadata": {},
   "outputs": [
    {
     "name": "stdout",
     "output_type": "stream",
     "text": [
      "  employee        group  age\n",
      "0      Bob   Accounting   20\n",
      "1     Jake  Engineering   42\n",
      "2     Lisa  Engineering   37\n",
      "3      Sue           HR   25 \n",
      "\n",
      "   name  salary\n",
      "0   Bob   70000\n",
      "1  Jake   80000\n",
      "2  Lisa  120000\n",
      "3   Sue   90000 \n",
      "\n",
      "  employee        group  age  name  salary\n",
      "0      Bob   Accounting   20   Bob   70000\n",
      "1     Jake  Engineering   42  Jake   80000\n",
      "2     Lisa  Engineering   37  Lisa  120000\n",
      "3      Sue           HR   25   Sue   90000\n"
     ]
    }
   ],
   "source": [
    "# 'left_on' and 'right_on' arguments:\n",
    "\n",
    "df3 = pd.DataFrame({'name': ['Bob', 'Jake', 'Lisa', 'Sue'],\n",
    "                    'salary': [70000, 80000, 120000, 90000]}) \n",
    "\n",
    "print(df1, '\\n')\n",
    "print(df3, '\\n')\n",
    "\n",
    "print(pd.merge(df1, df3, left_on = 'employee', right_on = 'name'))"
   ]
  },
  {
   "cell_type": "code",
   "execution_count": 44,
   "id": "c372ba6e-21ac-43c9-8945-b7b4cf76b8bc",
   "metadata": {},
   "outputs": [],
   "source": [
    "# 'left_index' and 'right_index' arguments"
   ]
  },
  {
   "cell_type": "code",
   "execution_count": 52,
   "id": "f111c0be-d1b1-4c84-984c-12f89fc7b37b",
   "metadata": {},
   "outputs": [
    {
     "name": "stdout",
     "output_type": "stream",
     "text": [
      "                group  age\n",
      "employee                  \n",
      "Bob        Accounting   20\n",
      "Jake      Engineering   42\n",
      "Lisa      Engineering   37\n",
      "Sue                HR   25 \n",
      "\n",
      "          hire_date  age\n",
      "employee                \n",
      "Bob            2004   37\n",
      "Jake           2008   20\n",
      "Lisa           2012   42\n",
      "Sue            2014   25 \n",
      "\n",
      "                group  age_x  hire_date  age_y\n",
      "employee                                      \n",
      "Bob        Accounting     20       2004     37\n",
      "Jake      Engineering     42       2008     20\n",
      "Lisa      Engineering     37       2012     42\n",
      "Sue                HR     25       2014     25\n"
     ]
    }
   ],
   "source": [
    "df1a = df1.set_index('employee')\n",
    "df2a = df2.set_index('employee')\n",
    "\n",
    "print(df1a, '\\n')\n",
    "print(df2a, '\\n')\n",
    "\n",
    "print(pd.merge(df1a, df2a, left_index = True, right_index = True))"
   ]
  },
  {
   "cell_type": "code",
   "execution_count": 53,
   "id": "038a4269-35e3-476c-bc40-68c24cedaa95",
   "metadata": {},
   "outputs": [
    {
     "data": {
      "text/plain": [
       "'\\n    Specifying the join method\\n'"
      ]
     },
     "execution_count": 53,
     "metadata": {},
     "output_type": "execute_result"
    }
   ],
   "source": [
    "\"\"\"\n",
    "    Specifying the join method\n",
    "\"\"\""
   ]
  }
 ],
 "metadata": {
  "kernelspec": {
   "display_name": "Python 3",
   "language": "python",
   "name": "python3"
  },
  "language_info": {
   "codemirror_mode": {
    "name": "ipython",
    "version": 3
   },
   "file_extension": ".py",
   "mimetype": "text/x-python",
   "name": "python",
   "nbconvert_exporter": "python",
   "pygments_lexer": "ipython3",
   "version": "3.8.8"
  }
 },
 "nbformat": 4,
 "nbformat_minor": 5
}
