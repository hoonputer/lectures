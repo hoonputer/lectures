{
 "cells": [
  {
   "cell_type": "code",
   "execution_count": null,
   "id": "9612d8f7-76ca-4268-91ef-56394c2d0740",
   "metadata": {},
   "outputs": [],
   "source": [
    "import pandas as pd\n",
    "import numpy as np\n",
    "from datetime import datetime\n",
    "\n",
    "def parser(x):\n",
    "    return datetime.strptime(x, '%Y-%m-%d %H:%M:%S')\n",
    "\n",
    "input_file = './data/AirQualityUCI_refined.csv'\n",
    "\n",
    "df = pd.read_csv(input_file,\n",
    "                 index_col=[0],\n",
    "                 parse_dates=[0],\n",
    "                 date_parser=parser)\n",
    "print(df.head())\n",
    "\n",
    "# Visualization setup\n",
    "%matplotlib\n",
    "from matplotlib import pyplot as plt\n",
    "import seaborn as sns\n",
    "sns.set()\n",
    "\n",
    "%config InlineBackend.figure_format = 'svg'\n",
    "plt.rcParams['figure.figsize'] = [10, 5]\n",
    "plt.ion() # enable the interactive mode"
   ]
  },
  {
   "cell_type": "code",
   "execution_count": null,
   "id": "c04e216b-ba6f-41a0-a034-4e18139bbc5f",
   "metadata": {},
   "outputs": [],
   "source": [
    "import pandas as pd\n",
    "movies = pd.Series([\"The Godfather, 1972, Francis Ford Coppola\",\n",
    "                  \"Contact, 1997, Robert Zemeckis\",\n",
    "                  \"Parasite, 2019, Joon-ho Bong\"])"
   ]
  },
  {
   "cell_type": "code",
   "execution_count": null,
   "id": "0f258048-8599-4b78-9bb9-cf1db303c8f2",
   "metadata": {},
   "outputs": [],
   "source": [
    "lst_title = []\n",
    "lst_year = []\n",
    "lst_director = []\n",
    "\n",
    "for val in movies:\n",
    "    title, year, director = val.split(',')\n",
    "    lst_title.append(title)\n",
    "    lst_year.append(year)\n",
    "    lst_director.append(director)\n",
    "# print(lst_title)\n",
    "# print(lst_year)\n",
    "# print(lst_director)"
   ]
  },
  {
   "cell_type": "code",
   "execution_count": null,
   "id": "d325551c-d1b9-49cc-b9bd-378fa4808274",
   "metadata": {},
   "outputs": [],
   "source": [
    "df_movie = pd.DataFrame()\n",
    "df_movie['title'] = lst_title\n",
    "df_movie['year'] = lst_year\n",
    "df_movie['director'] = lst_director\n",
    "\n",
    "df_movie"
   ]
  },
  {
   "cell_type": "code",
   "execution_count": null,
   "id": "d930a2c2-a7d4-4a6b-baae-a3c1cf989b27",
   "metadata": {},
   "outputs": [],
   "source": [
    "# Interpolate for entire data\n",
    "df.interpolate(inplace=True)"
   ]
  },
  {
   "cell_type": "code",
   "execution_count": null,
   "id": "fa5fa8fa-9328-491e-98a8-9dd694ad43c1",
   "metadata": {},
   "outputs": [],
   "source": [
    "\"\"\"\n",
    "Correlation Matrix\n",
    "\"\"\"\n",
    "sns.pairplot(df, kind = 'reg', diag_kind = 'kde',\n",
    "            plot_kws = {'scatter_kws' : {'alpha' : 0.1}})"
   ]
  },
  {
   "cell_type": "code",
   "execution_count": null,
   "id": "3d798b7f-df7f-4895-91db-e65fb6cb3d7f",
   "metadata": {},
   "outputs": [],
   "source": [
    "# Prepare a feature set\n",
    "X = df.iloc[:, 1:]    # input features\n",
    "X\n",
    "\n",
    "y = df.iloc[:, 0]    # target variable\n",
    "y"
   ]
  },
  {
   "cell_type": "code",
   "execution_count": null,
   "id": "688e7acb-ca04-4ba8-ab70-c658c0975164",
   "metadata": {},
   "outputs": [],
   "source": [
    "\"\"\"\n",
    "Feature Importance\n",
    "\"\"\"\n",
    "\n",
    "# Create and train model for regression\n",
    "\n",
    "from sklearn.ensemble import RandomForestRegressor\n",
    "\n",
    "model = RandomForestRegressor()\n",
    "model.fit(X, y)"
   ]
  },
  {
   "cell_type": "code",
   "execution_count": null,
   "id": "cd89947d-a846-4402-ac7c-52783af7e4a3",
   "metadata": {},
   "outputs": [],
   "source": [
    "# Print feature importances\n",
    "print(model.feature_importances_)"
   ]
  },
  {
   "cell_type": "code",
   "execution_count": null,
   "id": "802a45be-0327-48fd-b5dd-efa8b08c5979",
   "metadata": {},
   "outputs": [],
   "source": [
    "# Plot the feature importances\n",
    "feat_importances = pd.Series(model.feature_importances_, index=X.columns)\n",
    "feat_importances.nlargest(10).plot(kind='barh')\n",
    "plt.show()"
   ]
  }
 ],
 "metadata": {
  "kernelspec": {
   "display_name": "Python 3",
   "language": "python",
   "name": "python3"
  },
  "language_info": {
   "codemirror_mode": {
    "name": "ipython",
    "version": 3
   },
   "file_extension": ".py",
   "mimetype": "text/x-python",
   "name": "python",
   "nbconvert_exporter": "python",
   "pygments_lexer": "ipython3",
   "version": "3.8.8"
  }
 },
 "nbformat": 4,
 "nbformat_minor": 5
}
