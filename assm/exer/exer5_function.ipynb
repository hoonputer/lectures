{
 "cells": [
  {
   "cell_type": "code",
   "execution_count": 1,
   "id": "2f75660b",
   "metadata": {},
   "outputs": [
    {
     "name": "stdout",
     "output_type": "stream",
     "text": [
      "7\n",
      "12\n",
      "8\n"
     ]
    }
   ],
   "source": [
    "\"\"\"\n",
    "function and method\n",
    "\"\"\"\n",
    "#Define a function \n",
    "def my_function(x):\n",
    "    return x + 5\n",
    "#invoke the function\n",
    "print (my_function(2))\n",
    "\n",
    "y = 7\n",
    "print(my_function(y))\n",
    "\n",
    "#Define a class\n",
    "class my_class:\n",
    "    def my_method(self):\n",
    "        return x + 5\n",
    "cls= my_class()\n",
    "#creat an instance\n",
    "x = 3 \n",
    "print (cls.my_method())"
   ]
  },
  {
   "cell_type": "code",
   "execution_count": 2,
   "id": "458ff6f9",
   "metadata": {},
   "outputs": [
    {
     "name": "stdout",
     "output_type": "stream",
     "text": [
      "hello everyone, my name is 전상은, my birthday is 20010916, and I live in 서울.\n"
     ]
    }
   ],
   "source": [
    "\"\"\"\n",
    "paraments and arguments\n",
    "\"\"\"\n",
    "def introduce_myself(name, birthday, city):\n",
    "    print (\"hello everyone, my name is %s, my birthday is %d, and I live in %s.\" %(name, birthday,city))\n",
    "introduce_myself(\"전상은\",20010916,\"서울\")"
   ]
  },
  {
   "cell_type": "code",
   "execution_count": 3,
   "id": "e2762a96",
   "metadata": {},
   "outputs": [
    {
     "name": "stdout",
     "output_type": "stream",
     "text": [
      "this is not part of testfunction\n"
     ]
    }
   ],
   "source": [
    "\"\"\"\n",
    "function indentation\n",
    "\"\"\"\n",
    "#indentation is used to identify code blocks\n",
    "def testfunction(number):\n",
    "    #this code is part of testfunction\n",
    "    print(\"inside the testfuction\")\n",
    "    sum = 0 \n",
    "    for x in range(number):\n",
    "        #more indentation because 'for' has a code block\n",
    "        #but stilll part of he function \n",
    "        sum += x\n",
    "    return sum\n",
    "print(\"this is not part of testfunction\")"
   ]
  },
  {
   "cell_type": "code",
   "execution_count": 4,
   "id": "3b2dbeb5",
   "metadata": {},
   "outputs": [
    {
     "name": "stdout",
     "output_type": "stream",
     "text": [
      "2021 is not a leap year.\n"
     ]
    }
   ],
   "source": [
    "\"\"\"\n",
    "returning value from function\n",
    "\"\"\"\n",
    "def check_leap_year(year):\n",
    "    if year % 4 == 0:\n",
    "        return str(year) + \" is a leap year.\"\n",
    "    else:\n",
    "        return str(year) + \" is not a leap year.\"\n",
    "year_to_check = 2021\n",
    "result = check_leap_year(year_to_check)\n",
    "print (result)"
   ]
  },
  {
   "cell_type": "code",
   "execution_count": 5,
   "id": "7abfd842",
   "metadata": {},
   "outputs": [
    {
     "name": "stdout",
     "output_type": "stream",
     "text": [
      "9 16 25\n"
     ]
    }
   ],
   "source": [
    "\"\"\"\n",
    "Returning multiple values\n",
    "\"\"\"\n",
    "#return keyword\n",
    "def square_point(a,b,c):\n",
    "    a_squared = a**2\n",
    "    b_squared = b**2\n",
    "    c_squared = c**2\n",
    "    return a_squared, b_squared, c_squared\n",
    "three_squared, four_squared, five_squared = square_point(3,4,5)\n",
    "print(three_squared,four_squared,five_squared)"
   ]
  },
  {
   "cell_type": "code",
   "execution_count": 6,
   "id": "ed50ef03",
   "metadata": {},
   "outputs": [
    {
     "name": "stdout",
     "output_type": "stream",
     "text": [
      "hello\n",
      "5\n",
      "2\n",
      "7\n",
      "Height = 1\n",
      "Width = 2\n",
      "Depth = 3\n",
      "Height = 6\n",
      "Width = 5\n",
      "Depth = 4\n",
      "Height = 4\n",
      "Width = 1\n",
      "Depth = 1\n"
     ]
    },
    {
     "data": {
      "text/plain": [
       "4"
      ]
     },
     "execution_count": 6,
     "metadata": {},
     "output_type": "execute_result"
    }
   ],
   "source": [
    "#global variables\n",
    "#전역변수는 함수 안,밖에서 모두 사용가능 \n",
    "a = 'hello'\n",
    "def prints_a():\n",
    "    print(a)\n",
    "    \n",
    "prints_a()\n",
    "\n",
    "#local variables in a function\n",
    "#지역변수는 함수 안에서만 사용 \n",
    "b = 5\n",
    "def f1():\n",
    "    b = 2\n",
    "    print (b)\n",
    "    \n",
    "print(b)\n",
    "f1()\n",
    "\n",
    "#parameters as local variables\n",
    "def my_function(value):\n",
    "    print(value)\n",
    "my_function(7)\n",
    "#print(value) ->에러 발생 \n",
    "#매개변수도 함수 밖에서 사용할 수 없음  \n",
    "\n",
    "#keyword arguments and default values\n",
    "def findvolume(height =1, width =1, depth =1):\n",
    "    print(\"Height = \" +str(height))\n",
    "    print(\"Width = \" +str(width))\n",
    "    print(\"Depth = \" +str(depth))\n",
    "    return height * width * depth;\n",
    "findvolume(1,2,3)\n",
    "findvolume(width = 5, depth = 4, height = 6)\n",
    "findvolume(height = 4)"
   ]
  },
  {
   "cell_type": "code",
   "execution_count": null,
   "id": "80f2aa30",
   "metadata": {},
   "outputs": [],
   "source": []
  }
 ],
 "metadata": {
  "kernelspec": {
   "display_name": "Python 3",
   "language": "python",
   "name": "python3"
  },
  "language_info": {
   "codemirror_mode": {
    "name": "ipython",
    "version": 3
   },
   "file_extension": ".py",
   "mimetype": "text/x-python",
   "name": "python",
   "nbconvert_exporter": "python",
   "pygments_lexer": "ipython3",
   "version": "3.8.8"
  }
 },
 "nbformat": 4,
 "nbformat_minor": 5
}
