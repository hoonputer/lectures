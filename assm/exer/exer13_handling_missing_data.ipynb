{
 "cells": [
  {
   "cell_type": "code",
   "execution_count": 5,
   "id": "f662e0b6-b527-4b0f-9841-f5bd3b49a3b9",
   "metadata": {},
   "outputs": [],
   "source": [
    "import numpy as np\n",
    "import pandas as pd "
   ]
  },
  {
   "cell_type": "code",
   "execution_count": 6,
   "id": "2ad6cdab-3564-4ff1-a803-3978f3a92e31",
   "metadata": {},
   "outputs": [
    {
     "data": {
      "text/plain": [
       "array([1, None, 3, 4], dtype=object)"
      ]
     },
     "execution_count": 6,
     "metadata": {},
     "output_type": "execute_result"
    }
   ],
   "source": [
    "\"\"\"\n",
    "None : Pythonic missing data\n",
    "\"\"\"\n",
    "\n",
    "# None objects as missing values\n",
    "\n",
    "arr1 = np.array([1, None, 3, 4])\n",
    "arr1"
   ]
  },
  {
   "cell_type": "code",
   "execution_count": 7,
   "id": "100dcf60-16f5-4937-a36f-011412bb520c",
   "metadata": {},
   "outputs": [],
   "source": [
    "# python objects are incompatible with numpy and pandas operation\n",
    "# print(np.sum(arr1))"
   ]
  },
  {
   "cell_type": "code",
   "execution_count": 8,
   "id": "84a9efce-416a-4111-98a7-dc493fcf8a29",
   "metadata": {},
   "outputs": [
    {
     "name": "stdout",
     "output_type": "stream",
     "text": [
      "float64\n",
      "nan\n"
     ]
    }
   ],
   "source": [
    "\"\"\"\n",
    "NaN : Missing Numerical Data\n",
    "\"\"\"\n",
    "arr1 = np.array([1, np.nan, 3, 4])\n",
    "print(arr1.dtype)\n",
    "print(np.sum(arr1))"
   ]
  },
  {
   "cell_type": "code",
   "execution_count": 9,
   "id": "e88b6e74-6fe8-44f2-80d8-af474f0b3296",
   "metadata": {},
   "outputs": [],
   "source": [
    "# Arithmetic with NaN will be another Data"
   ]
  },
  {
   "cell_type": "code",
   "execution_count": 10,
   "id": "5345b3d0-89be-454c-9959-56936194ca0c",
   "metadata": {},
   "outputs": [
    {
     "name": "stdout",
     "output_type": "stream",
     "text": [
      "0    1.0\n",
      "1    NaN\n",
      "2    2.0\n",
      "3    NaN\n",
      "dtype: float64\n",
      "float64\n"
     ]
    }
   ],
   "source": [
    "# Pandas automatically converts the None to a NaN value.\n",
    "\n",
    "ser = pd.Series([1,np.nan,2,None])\n",
    "print(ser)\n",
    "print(ser.dtype)\n",
    "# ser[1] = 'string'\n",
    "# print(ser)\n",
    "# print(ser.dtype)"
   ]
  },
  {
   "cell_type": "code",
   "execution_count": 11,
   "id": "fd58cf0d-020d-40b2-8080-e1eeaebc7248",
   "metadata": {},
   "outputs": [
    {
     "name": "stdout",
     "output_type": "stream",
     "text": [
      "0    1.0\n",
      "1    NaN\n",
      "2    2.0\n",
      "3    NaN\n",
      "dtype: float64\n"
     ]
    },
    {
     "data": {
      "text/plain": [
       "0    False\n",
       "1     True\n",
       "2    False\n",
       "3     True\n",
       "dtype: bool"
      ]
     },
     "execution_count": 11,
     "metadata": {},
     "output_type": "execute_result"
    }
   ],
   "source": [
    "\"\"\"\n",
    "Detecting null values\n",
    "\"\"\"\n",
    "\n",
    "# isnull()\n",
    "print(ser)\n",
    "ser.isnull()"
   ]
  },
  {
   "cell_type": "code",
   "execution_count": 12,
   "id": "7172ad96-df5a-41d7-9ebb-1128a0763eda",
   "metadata": {},
   "outputs": [
    {
     "data": {
      "text/plain": [
       "0     True\n",
       "1    False\n",
       "2     True\n",
       "3    False\n",
       "dtype: bool"
      ]
     },
     "execution_count": 12,
     "metadata": {},
     "output_type": "execute_result"
    }
   ],
   "source": [
    "# notnull()\n",
    "ser.notnull()"
   ]
  },
  {
   "cell_type": "code",
   "execution_count": 13,
   "id": "a28cea79-eb56-4acb-b748-eb78befa1eed",
   "metadata": {},
   "outputs": [
    {
     "data": {
      "text/plain": [
       "0    1.0\n",
       "2    2.0\n",
       "dtype: float64"
      ]
     },
     "execution_count": 13,
     "metadata": {},
     "output_type": "execute_result"
    }
   ],
   "source": [
    "\"\"\"\n",
    "Dropping null values\n",
    "\"\"\"\n",
    "\n",
    "#dropna() axis 매개변수는 dataFrame 경우만.\n",
    "ser.dropna(how = 'all')"
   ]
  },
  {
   "cell_type": "code",
   "execution_count": 14,
   "id": "3b7b963d-60e7-4fbe-9100-017e04e0e477",
   "metadata": {},
   "outputs": [
    {
     "name": "stdout",
     "output_type": "stream",
     "text": [
      "a    1.0\n",
      "b    NaN\n",
      "c    2.0\n",
      "d    NaN\n",
      "e    3.0\n",
      "dtype: float64\n",
      "a    1.0\n",
      "b    0.0\n",
      "c    2.0\n",
      "d    0.0\n",
      "e    3.0\n",
      "dtype: float64\n"
     ]
    }
   ],
   "source": [
    "\"\"\"\n",
    "Filling Null Values\n",
    "\"\"\"\n",
    "\n",
    "# fillna()\n",
    "\n",
    "ser = pd.Series([1, np.nan, 2, None, 3], index = list('abcde'))\n",
    "print(ser)\n",
    "\n",
    "print(ser.fillna(0))"
   ]
  },
  {
   "cell_type": "code",
   "execution_count": 15,
   "id": "4e101bef-1574-40f7-981e-4424a9205a5c",
   "metadata": {},
   "outputs": [
    {
     "name": "stdout",
     "output_type": "stream",
     "text": [
      "a    1.0\n",
      "b    2.0\n",
      "c    2.0\n",
      "d    3.0\n",
      "e    3.0\n",
      "dtype: float64\n",
      "a    1.0\n",
      "b    2.0\n",
      "c    2.0\n",
      "d    3.0\n",
      "e    3.0\n",
      "dtype: float64\n"
     ]
    }
   ],
   "source": [
    "# Forwad-fill = LOCF\n",
    "ser.fillna(method = 'ffill')\n",
    "# Backward-fill = NOCB\n",
    "print(ser.bfill())\n",
    "print(ser.fillna(method = 'bfill'))"
   ]
  }
 ],
 "metadata": {
  "kernelspec": {
   "display_name": "Python 3",
   "language": "python",
   "name": "python3"
  },
  "language_info": {
   "codemirror_mode": {
    "name": "ipython",
    "version": 3
   },
   "file_extension": ".py",
   "mimetype": "text/x-python",
   "name": "python",
   "nbconvert_exporter": "python",
   "pygments_lexer": "ipython3",
   "version": "3.8.8"
  }
 },
 "nbformat": 4,
 "nbformat_minor": 5
}
