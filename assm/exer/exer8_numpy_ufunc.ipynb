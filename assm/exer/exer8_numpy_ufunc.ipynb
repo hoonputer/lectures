{
 "cells": [
  {
   "cell_type": "code",
   "execution_count": 2,
   "id": "00ae8535",
   "metadata": {},
   "outputs": [],
   "source": [
    "import numpy as np"
   ]
  },
  {
   "cell_type": "code",
   "execution_count": 5,
   "id": "1078dfbf",
   "metadata": {},
   "outputs": [
    {
     "name": "stdout",
     "output_type": "stream",
     "text": [
      "[8 4 6 5 4]\n"
     ]
    },
    {
     "data": {
      "text/plain": [
       "array([0.125     , 0.25      , 0.16666667, 0.2       , 0.25      ])"
      ]
     },
     "execution_count": 5,
     "metadata": {},
     "output_type": "execute_result"
    }
   ],
   "source": [
    "\"\"\"\n",
    "Computing reciprocals in loops\n",
    "\"\"\"\n",
    "# Function for computing reciprocals using looping \n",
    "def compute_reciprocals(values):\n",
    "    output = np.empty(len(values))\n",
    "    for i in range(len(values)):\n",
    "        output[i] = 1.0/ values[i]\n",
    "    return output\n",
    "\n",
    "values = np.random.randint(1, 10, size = 5)\n",
    "print(values)\n",
    "\n",
    "compute_reciprocals(values)"
   ]
  },
  {
   "cell_type": "code",
   "execution_count": 6,
   "id": "93c172a3",
   "metadata": {},
   "outputs": [
    {
     "name": "stdout",
     "output_type": "stream",
     "text": [
      "1.67 s ± 8.26 ms per loop (mean ± std. dev. of 7 runs, 1 loop each)\n"
     ]
    }
   ],
   "source": [
    "\"\"\"\n",
    "Comparison : Loop vs ufuncs(vectorized)\n",
    "\"\"\"\n",
    "\n",
    "big_array = np.random.randint(1, 100, size = 1000000)\n",
    "\n",
    "#looping on a big array\n",
    "%timeit compute_reciprocals(big_array)\n",
    "\n",
    "# magic function (e.g., %timeit)"
   ]
  },
  {
   "cell_type": "code",
   "execution_count": 8,
   "id": "9b23cbf1",
   "metadata": {},
   "outputs": [
    {
     "name": "stdout",
     "output_type": "stream",
     "text": [
      "2.08 ms ± 133 µs per loop (mean ± std. dev. of 7 runs, 100 loops each)\n"
     ]
    }
   ],
   "source": [
    "# Vectorized operations\n",
    "%timeit 1 / big_array"
   ]
  },
  {
   "cell_type": "code",
   "execution_count": 11,
   "id": "8b3d2a0b",
   "metadata": {},
   "outputs": [
    {
     "name": "stdout",
     "output_type": "stream",
     "text": [
      "[5 8 9 5 0] [0 1 7 6 9]\n",
      "[ 3  6  7  3 -2]\n",
      "[ 3  7 14  9  7]\n",
      "[[2 4 5 2 4]\n",
      " [2 4 7 7 9]\n",
      " [1 7 0 6 9]]\n",
      "[[ 4 16 25  4 16]\n",
      " [ 4 16 49 49 81]\n",
      " [ 1 49  0 36 81]]\n"
     ]
    }
   ],
   "source": [
    "\"\"\"\n",
    "numpy.ufunc\n",
    "\"\"\"\n",
    "\n",
    "np.random.seed(1)\n",
    "arr1 = np.random.randint(10, size = 5)\n",
    "arr2 = np.random.randint(10, size = 5)\n",
    "print(arr1, arr2)\n",
    "\n",
    "arr1 = arr1 - 2\n",
    "print(arr1)\n",
    "\n",
    "arr3 = arr1 + arr2\n",
    "print(arr3)\n",
    "\n",
    "arr4 = np.random.randint(10, size=(3,5))\n",
    "print(arr4)\n",
    "\n",
    "arr5 = arr4 **2\n",
    "print(arr5)"
   ]
  },
  {
   "cell_type": "code",
   "execution_count": 17,
   "id": "2d1ec959",
   "metadata": {},
   "outputs": [
    {
     "name": "stdout",
     "output_type": "stream",
     "text": [
      "x     = [0 1 2 3]\n",
      "x + 5 = [5 6 7 8]\n",
      "x - 5 = [-5 -4 -3 -2]\n",
      "x * 2 = [0 2 4 6]\n",
      "x / 2 = [0.  0.5 1.  1.5]\n",
      "x ** 2 = [0 1 4 9]\n",
      "x + 5 = [5 6 7 8]\n",
      "x - 5 = [-5 -4 -3 -2]\n",
      "x * 5 = [0 2 4 6]\n",
      "x / 5 = [0.  0.5 1.  1.5]\n",
      "x ** 5 = [0 1 4 9]\n"
     ]
    }
   ],
   "source": [
    "\"\"\"\n",
    "UFuncs : Array Arithmetic\n",
    "\"\"\"\n",
    "\n",
    "# Basic arithmetic operations on an array\n",
    "x = np.arange(4)\n",
    "print(\"x     =\", x)\n",
    "print(\"x + 5 =\", x + 5)\n",
    "print(\"x - 5 =\", x - 5)\n",
    "print(\"x * 2 =\", x * 2)\n",
    "print(\"x / 2 =\", x / 2)\n",
    "print(\"x ** 2 =\", x ** 2)\n",
    "\n",
    "# Use UFuncs\n",
    "print(\"x + 5 =\", np.add(x, 5))\n",
    "print(\"x - 5 =\", np.subtract(x, 5))\n",
    "print(\"x * 5 =\", np.multiply(x, 2))\n",
    "print(\"x / 5 =\", np.divide(x, 2))\n",
    "print(\"x ** 5 =\", np.power(x, 2))"
   ]
  },
  {
   "cell_type": "code",
   "execution_count": 18,
   "id": "a890ed1b-3381-4e99-b345-b4147513402e",
   "metadata": {},
   "outputs": [],
   "source": [
    "# Use UFuncs"
   ]
  },
  {
   "cell_type": "code",
   "execution_count": 19,
   "id": "9139f143-8d2d-405d-bae7-f920daaabf4d",
   "metadata": {},
   "outputs": [
    {
     "name": "stdout",
     "output_type": "stream",
     "text": [
      "[2 1 0 1 2]\n",
      "[5. 5. 2. 1.]\n"
     ]
    }
   ],
   "source": [
    "\"\"\"\n",
    "UFuncs: Absolute value\n",
    "\"\"\"\n",
    "\n",
    "x = np.array([-2, -1, 0, 1, 2])\n",
    "print(np.abs(x))\n",
    "\n",
    "x = np.array([3-4j, 4-3j, 2-0j, 0+1j])\n",
    "print(np.abs(x))"
   ]
  },
  {
   "cell_type": "code",
   "execution_count": 20,
   "id": "f1cba9f9",
   "metadata": {},
   "outputs": [
    {
     "name": "stdout",
     "output_type": "stream",
     "text": [
      "[0.         1.57079633 3.14159265]\n",
      "[0.0000000e+00 1.0000000e+00 1.2246468e-16]\n",
      "[ 1.000000e+00  6.123234e-17 -1.000000e+00]\n",
      "[ 0.00000000e+00  1.63312394e+16 -1.22464680e-16]\n"
     ]
    }
   ],
   "source": [
    "\"\"\"\n",
    "UFuncs: Trigonometric Functions\n",
    "\"\"\"\n",
    "\n",
    "theta = np.linspace(0, np.pi, 3)\n",
    "\n",
    "print (theta)\n",
    "\n",
    "print(np.sin(theta))\n",
    "print(np.cos(theta))\n",
    "print(np.tan(theta))"
   ]
  },
  {
   "cell_type": "code",
   "execution_count": 21,
   "id": "f0903772",
   "metadata": {},
   "outputs": [
    {
     "name": "stdout",
     "output_type": "stream",
     "text": [
      "[1 2 3 4]\n",
      "10\n",
      "24\n"
     ]
    }
   ],
   "source": [
    "\"\"\"\n",
    "UFuncs : Aggregation\n",
    "\"\"\"\n",
    "\n",
    "x = np.arange(1,5)\n",
    "print(x)\n",
    "\n",
    "aggr = np.add.reduce(x)\n",
    "print(aggr)\n",
    "\n",
    "aggr = np.multiply.reduce(x)\n",
    "print(aggr)"
   ]
  },
  {
   "cell_type": "code",
   "execution_count": 22,
   "id": "9f57a8f0",
   "metadata": {},
   "outputs": [
    {
     "name": "stdout",
     "output_type": "stream",
     "text": [
      "[ 1  2  3  4  5  6  7  8  9 10 11 12 13 14]\n",
      "[  1   3   6  10  15  21  28  36  45  55  66  78  91 105]\n",
      "[         1          2          6         24        120        720\n",
      "       5040      40320     362880    3628800   39916800  479001600\n",
      " 1932053504 1278945280]\n"
     ]
    }
   ],
   "source": [
    "# accumulate()\n",
    "\n",
    "x = np.arange(1, 15)\n",
    "print(x)\n",
    "\n",
    "accum = np.add.accumulate(x)\n",
    "print(accum)\n",
    "\n",
    "accum = np.multiply.accumulate(x)\n",
    "print(accum)"
   ]
  },
  {
   "cell_type": "code",
   "execution_count": 23,
   "id": "9afa73b3",
   "metadata": {},
   "outputs": [
    {
     "name": "stdout",
     "output_type": "stream",
     "text": [
      "[0.4359949  0.02592623 0.54966248 ... 0.78483191 0.00778062 0.42442656]\n",
      "sum =  499468.5166853333\n",
      "73.8 ms ± 134 µs per loop (mean ± std. dev. of 7 runs, 10 loops each)\n"
     ]
    }
   ],
   "source": [
    "# Summing the Values in an Array\n",
    "\n",
    "np.random.seed(2)\n",
    "arr = np.random.rand(1000000)  # rand(): creat 0~1 real values\n",
    "\n",
    "print(arr)\n",
    "print('sum = ', np.sum(arr))\n",
    "\n",
    "%timeit sum(arr)"
   ]
  },
  {
   "cell_type": "code",
   "execution_count": 24,
   "id": "02fe0e8c",
   "metadata": {},
   "outputs": [
    {
     "name": "stdout",
     "output_type": "stream",
     "text": [
      "268 µs ± 3.78 µs per loop (mean ± std. dev. of 7 runs, 1000 loops each)\n"
     ]
    }
   ],
   "source": [
    "%timeit np.sum(arr)  # np.sum()이 파이썬 내장함수 sum()보다 훨씬 빠름"
   ]
  },
  {
   "cell_type": "code",
   "execution_count": 25,
   "id": "8736af6f",
   "metadata": {},
   "outputs": [
    {
     "name": "stdout",
     "output_type": "stream",
     "text": [
      "max =  0.9999976661165695\n",
      "min =  9.475783189216713e-07\n",
      "mean =  0.49946851668533326\n",
      "median =  0.49948650836352526\n",
      "percentile =  0.49948650836352526\n",
      "False\n",
      "True\n"
     ]
    }
   ],
   "source": [
    "# Other Aggr. functions\n",
    "\n",
    "print(\"max = \", np.max(arr))\n",
    "print(\"min = \", np.min(arr))\n",
    "print(\"mean = \", np.mean(arr))\n",
    "print(\"median = \", np.median(arr))\n",
    "print(\"percentile = \", np.percentile(arr, 50))\n",
    "\n",
    "print(np.any(arr>1))\n",
    "print(np.all(arr>0))"
   ]
  },
  {
   "cell_type": "code",
   "execution_count": 26,
   "id": "b32f3e51",
   "metadata": {},
   "outputs": [
    {
     "name": "stdout",
     "output_type": "stream",
     "text": [
      "[[3 6 6 0]\n",
      " [9 8 4 7]\n",
      " [0 0 7 1]]\n",
      "[12 14 17  8]\n"
     ]
    }
   ],
   "source": [
    "# Multi dimensional aggregates\n",
    "\n",
    "np.random.seed(5)\n",
    "arr = np.random.randint(10, size=(3,4))\n",
    "print(arr)\n",
    "\n",
    "print(np.sum(arr, axis=0))"
   ]
  }
 ],
 "metadata": {
  "kernelspec": {
   "display_name": "Python 3",
   "language": "python",
   "name": "python3"
  },
  "language_info": {
   "codemirror_mode": {
    "name": "ipython",
    "version": 3
   },
   "file_extension": ".py",
   "mimetype": "text/x-python",
   "name": "python",
   "nbconvert_exporter": "python",
   "pygments_lexer": "ipython3",
   "version": "3.8.8"
  }
 },
 "nbformat": 4,
 "nbformat_minor": 5
}
