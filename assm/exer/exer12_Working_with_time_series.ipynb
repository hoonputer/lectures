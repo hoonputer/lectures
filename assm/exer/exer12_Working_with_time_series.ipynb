{
 "cells": [
  {
   "cell_type": "code",
   "execution_count": 3,
   "id": "7c083759-883b-4c2a-8418-7ec41dc3fd4d",
   "metadata": {},
   "outputs": [
    {
     "name": "stdout",
     "output_type": "stream",
     "text": [
      "2021-10-28 00:00:00\n",
      "type:  <class 'datetime.datetime'>\n"
     ]
    }
   ],
   "source": [
    "\"\"\"\n",
    "Native Python dates and times\n",
    "\"\"\"\n",
    "\n",
    "from datetime import datetime\n",
    "\n",
    "t = datetime(year =2021, month = 10, day = 28)\n",
    "print(t)\n",
    "print('type: ', type(t))"
   ]
  },
  {
   "cell_type": "code",
   "execution_count": 4,
   "id": "6db402a4-494b-4aba-898d-5dc55d37ee8d",
   "metadata": {},
   "outputs": [
    {
     "name": "stdout",
     "output_type": "stream",
     "text": [
      "2021-10-27 00:00:00\n"
     ]
    }
   ],
   "source": [
    "# Parse a date from a string\n",
    "\n",
    "from dateutil import parser\n",
    "\n",
    "date = parser.parse(\"27th of October, 2021\")\n",
    "print(date)"
   ]
  },
  {
   "cell_type": "code",
   "execution_count": 5,
   "id": "7a5c67a7-863d-426f-b091-c35db9eb1df6",
   "metadata": {},
   "outputs": [
    {
     "data": {
      "text/plain": [
       "'Wednesday'"
      ]
     },
     "execution_count": 5,
     "metadata": {},
     "output_type": "execute_result"
    }
   ],
   "source": [
    "# Print the day of the week\n",
    "\n",
    "date.strftime('%A')"
   ]
  },
  {
   "cell_type": "code",
   "execution_count": 6,
   "id": "c68a31dc-c18f-4b6c-8b08-a334ec520d30",
   "metadata": {},
   "outputs": [
    {
     "name": "stdout",
     "output_type": "stream",
     "text": [
      "<class 'numpy.datetime64'>\n",
      "2021-10-28\n"
     ]
    }
   ],
   "source": [
    "\"\"\"\n",
    "Types Arrays of Times: Numpy's datetime64\n",
    "\"\"\"\n",
    "import numpy as np\n",
    "\n",
    "# Create datetime64 using array()\n",
    "dates = np.array(['2021-10-27','2021-10-28'], dtype = np.datetime64) \n",
    "print(type(dates[0]))\n",
    "\n",
    "# Use datetime64()\n",
    "date = np.datetime64('2021-10-28')\n",
    "print(date)"
   ]
  },
  {
   "cell_type": "code",
   "execution_count": 7,
   "id": "b897dce7-3ed1-4edd-a5ae-365741fef655",
   "metadata": {},
   "outputs": [
    {
     "name": "stdout",
     "output_type": "stream",
     "text": [
      "['2021-10-28' '2021-10-29' '2021-10-30' '2021-10-31' '2021-11-01'\n",
      " '2021-11-02' '2021-11-03']\n"
     ]
    }
   ],
   "source": [
    "# We can quickly do vectorized operations on datetime64\n",
    "print(date + np.arange(7)) # [0, 1, ..., 6]"
   ]
  },
  {
   "cell_type": "code",
   "execution_count": 8,
   "id": "873e0fdb-94ed-43f7-b46d-9cf425a6d7df",
   "metadata": {},
   "outputs": [
    {
     "name": "stdout",
     "output_type": "stream",
     "text": [
      "2021-10-28T09:27\n"
     ]
    }
   ],
   "source": [
    "# Minite-based datetime\n",
    "t = np.datetime64('2021-10-28 09:27')\n",
    "print(t)"
   ]
  },
  {
   "cell_type": "code",
   "execution_count": 9,
   "id": "811402cf-6133-4045-90f4-1a9c6917a708",
   "metadata": {},
   "outputs": [
    {
     "name": "stdout",
     "output_type": "stream",
     "text": [
      "2021-10-28T11:39:10.200000000\n"
     ]
    }
   ],
   "source": [
    "# Nanosecond-based datetime\n",
    "\n",
    "t = np.datetime64('2021-10-28 11:39:10.20', 'ns')\n",
    "print(t)"
   ]
  },
  {
   "cell_type": "code",
   "execution_count": 10,
   "id": "1e387a13-8fa6-4740-8f28-0149611c28dd",
   "metadata": {},
   "outputs": [
    {
     "name": "stdout",
     "output_type": "stream",
     "text": [
      "2021-10-27 00:00:00\n"
     ]
    }
   ],
   "source": [
    "\"\"\"\n",
    "Dates and Times in Pandas\n",
    "\"\"\"\n",
    "import pandas as pd\n",
    "\n",
    "# Parse a string date in pandas\n",
    "\n",
    "dates = pd.to_datetime('27th of October, 2021')\n",
    "print(dates)"
   ]
  },
  {
   "cell_type": "code",
   "execution_count": 11,
   "id": "9a2ee826-0ab9-40a8-91b7-ab0a2cb24be0",
   "metadata": {},
   "outputs": [
    {
     "name": "stdout",
     "output_type": "stream",
     "text": [
      "Wednesday\n"
     ]
    }
   ],
   "source": [
    "# Output the day of the week\n",
    "day = dates.strftime('%A')\n",
    "print(day)"
   ]
  },
  {
   "cell_type": "code",
   "execution_count": 12,
   "id": "be10e9eb-9a4e-4079-99db-d05bf938c75c",
   "metadata": {},
   "outputs": [
    {
     "name": "stdout",
     "output_type": "stream",
     "text": [
      "DatetimeIndex([          '2021-10-28 00:00:00',\n",
      "               '2021-10-28 00:00:00.000000001',\n",
      "               '2021-10-28 00:00:00.000000002',\n",
      "               '2021-10-28 00:00:00.000000003',\n",
      "               '2021-10-28 00:00:00.000000004',\n",
      "               '2021-10-28 00:00:00.000000005',\n",
      "               '2021-10-28 00:00:00.000000006'],\n",
      "              dtype='datetime64[ns]', freq=None)\n"
     ]
    }
   ],
   "source": [
    "# Numpy - Style vectorized operations\n",
    "\n",
    "print(date + pd.to_timedelta(np.arange(7)))"
   ]
  },
  {
   "cell_type": "code",
   "execution_count": 13,
   "id": "c637c153-0b95-43be-8292-f994051d43fa",
   "metadata": {},
   "outputs": [
    {
     "name": "stdout",
     "output_type": "stream",
     "text": [
      "DatetimeIndex(['2021-10-27', '2021-10-28', '2021-10-29', '2021-10-30',\n",
      "               '2021-10-31', '2021-11-01', '2021-11-02'],\n",
      "              dtype='datetime64[ns]', freq=None)\n",
      "2021-10-27    0\n",
      "2021-10-28    1\n",
      "2021-10-29    2\n",
      "2021-10-30    3\n",
      "2021-10-31    4\n",
      "2021-11-01    5\n",
      "2021-11-02    6\n",
      "dtype: int64\n"
     ]
    },
    {
     "data": {
      "text/plain": [
       "2021-10-27    0\n",
       "2021-10-28    1\n",
       "2021-10-29    2\n",
       "2021-10-30    3\n",
       "2021-10-31    4\n",
       "dtype: int64"
      ]
     },
     "execution_count": 13,
     "metadata": {},
     "output_type": "execute_result"
    }
   ],
   "source": [
    "\"\"\"\n",
    "Pandas Time Series : Indexing by Time -> 타임스탬프를 인덱스로 사용하기\n",
    "\"\"\"\n",
    "\n",
    "ind = pd.DatetimeIndex(['2021-10-27','2021-10-28','2021-10-29','2021-10-30','2021-10-31','2021-11-01','2021-11-02'])\n",
    "print(ind)\n",
    "\n",
    "ser = pd.Series([0,1,2,3,4,5,6], index = ind)\n",
    "print(ser)\n",
    "\n",
    "# Indexing by timestamps\n",
    "ser['2021-10-27':'2021-10-31']"
   ]
  },
  {
   "cell_type": "code",
   "execution_count": 14,
   "id": "cb7717a1-6cde-4e9a-83ab-971b7d4f1ee6",
   "metadata": {},
   "outputs": [
    {
     "name": "stdout",
     "output_type": "stream",
     "text": [
      "2021년 10월 자 : \n",
      " 2021-10-27    0\n",
      "2021-10-28    1\n",
      "2021-10-29    2\n",
      "2021-10-30    3\n",
      "2021-10-31    4\n",
      "dtype: int64\n",
      "2021-10-27    0\n",
      "2021-10-28    1\n",
      "2021-10-29    2\n",
      "2021-10-30    3\n",
      "2021-10-31    4\n",
      "2021-11-01    5\n",
      "2021-11-02    6\n",
      "dtype: int64\n"
     ]
    }
   ],
   "source": [
    "# Indexing patterns\n",
    "print('2021년 10월 자 :' , '\\n', ser['2021-10'])\n",
    "print(ser['2021'])"
   ]
  },
  {
   "cell_type": "code",
   "execution_count": 17,
   "id": "c42fe5bc-297b-45b6-a66e-0332685783f7",
   "metadata": {},
   "outputs": [
    {
     "name": "stdout",
     "output_type": "stream",
     "text": [
      "DatetimeIndex(['2015-07-03', '2015-07-04', '2015-07-06', '2015-07-07',\n",
      "               '2015-07-08'],\n",
      "              dtype='datetime64[ns]', freq=None)\n"
     ]
    }
   ],
   "source": [
    "\"\"\"\n",
    "Pandas Time Series Date Structures\n",
    "\"\"\"\n",
    "\n",
    "# Timestamp and DatetimeIndex\n",
    "dates = pd.to_datetime([datetime(2015, 7, 3),\n",
    "                       \"4th of July, 2015\",\n",
    "                       \"2015-July-6\",\n",
    "                       \"07-07-2015\",\n",
    "                       \"20150708\"])\n",
    "print(dates)"
   ]
  },
  {
   "cell_type": "code",
   "execution_count": 18,
   "id": "9c48731a-cd4a-405a-9293-924d91879a2a",
   "metadata": {},
   "outputs": [
    {
     "name": "stdout",
     "output_type": "stream",
     "text": [
      "PeriodIndex(['2015-07-03', '2015-07-04', '2015-07-06', '2015-07-07',\n",
      "             '2015-07-08'],\n",
      "            dtype='period[D]', freq='D')\n",
      "PeriodIndex(['2015-06-29/2015-07-05', '2015-06-29/2015-07-05',\n",
      "             '2015-07-06/2015-07-12', '2015-07-06/2015-07-12',\n",
      "             '2015-07-06/2015-07-12'],\n",
      "            dtype='period[W-SUN]', freq='W-SUN')\n"
     ]
    }
   ],
   "source": [
    "# DatetimeIndex -> periodIndex with to_period()\n",
    "\n",
    "print(dates.to_period('D'))\n",
    "print(dates.to_period('W'))"
   ]
  },
  {
   "cell_type": "code",
   "execution_count": 20,
   "id": "d929094a-2156-4ca9-ae90-f8e35ea6495e",
   "metadata": {},
   "outputs": [
    {
     "data": {
      "text/plain": [
       "TimedeltaIndex(['0 days', '1 days', '3 days', '4 days', '5 days'], dtype='timedelta64[ns]', freq=None)"
      ]
     },
     "execution_count": 20,
     "metadata": {},
     "output_type": "execute_result"
    }
   ],
   "source": [
    "# TimedeltaIndex\n",
    "\n",
    "dates - dates[0]"
   ]
  },
  {
   "cell_type": "code",
   "execution_count": 21,
   "id": "0d1464a6-8498-4090-bcd5-91f7aca281f8",
   "metadata": {},
   "outputs": [
    {
     "data": {
      "text/plain": [
       "DatetimeIndex(['2021-10-27', '2021-10-28', '2021-10-29', '2021-10-30',\n",
       "               '2021-10-31'],\n",
       "              dtype='datetime64[ns]', freq='D')"
      ]
     },
     "execution_count": 21,
     "metadata": {},
     "output_type": "execute_result"
    }
   ],
   "source": [
    "\"\"\"\n",
    "Regular Sequences\n",
    "\"\"\"\n",
    "\n",
    "# pd.date_range(), default freq : day\n",
    "pd.date_range('2021-10-27','2021-10-31')"
   ]
  },
  {
   "cell_type": "code",
   "execution_count": 22,
   "id": "b7656501-0c06-4567-a6ca-12bacb56350d",
   "metadata": {},
   "outputs": [
    {
     "data": {
      "text/plain": [
       "DatetimeIndex(['2021-10-27', '2021-10-28', '2021-10-29', '2021-10-30',\n",
       "               '2021-10-31'],\n",
       "              dtype='datetime64[ns]', freq='D')"
      ]
     },
     "execution_count": 22,
     "metadata": {},
     "output_type": "execute_result"
    }
   ],
   "source": [
    "# Use startpoint and num of periods\n",
    "pd.date_range('2021-10-27',periods = 5)"
   ]
  },
  {
   "cell_type": "code",
   "execution_count": 23,
   "id": "3223fc1a-cc07-493f-87f9-71b0111e3638",
   "metadata": {},
   "outputs": [
    {
     "data": {
      "text/plain": [
       "DatetimeIndex(['2021-10-27 00:00:00', '2021-10-27 01:00:00',\n",
       "               '2021-10-27 02:00:00', '2021-10-27 03:00:00',\n",
       "               '2021-10-27 04:00:00', '2021-10-27 05:00:00',\n",
       "               '2021-10-27 06:00:00', '2021-10-27 07:00:00',\n",
       "               '2021-10-27 08:00:00', '2021-10-27 09:00:00',\n",
       "               '2021-10-27 10:00:00', '2021-10-27 11:00:00'],\n",
       "              dtype='datetime64[ns]', freq='H')"
      ]
     },
     "execution_count": 23,
     "metadata": {},
     "output_type": "execute_result"
    }
   ],
   "source": [
    "# Change the frequency\n",
    "pd.date_range('2021-10-27',periods = 12, freq = 'H') # -> hourly time Series"
   ]
  }
 ],
 "metadata": {
  "kernelspec": {
   "display_name": "Python 3",
   "language": "python",
   "name": "python3"
  },
  "language_info": {
   "codemirror_mode": {
    "name": "ipython",
    "version": 3
   },
   "file_extension": ".py",
   "mimetype": "text/x-python",
   "name": "python",
   "nbconvert_exporter": "python",
   "pygments_lexer": "ipython3",
   "version": "3.8.8"
  }
 },
 "nbformat": 4,
 "nbformat_minor": 5
}
