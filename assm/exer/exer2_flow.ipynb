{
 "cells": [
  {
   "cell_type": "code",
   "execution_count": 1,
   "id": "a757f59c",
   "metadata": {},
   "outputs": [
    {
     "name": "stdout",
     "output_type": "stream",
     "text": [
      "<class 'bool'>\n",
      "<class 'str'>\n"
     ]
    }
   ],
   "source": [
    "\"\"\"\n",
    "boolean values\n",
    "\"\"\"\n",
    "is_tested = False\n",
    "print(type(is_tested))\n",
    "a='4'\n",
    "print(type(a))"
   ]
  },
  {
   "cell_type": "code",
   "execution_count": 2,
   "id": "f8dfce16",
   "metadata": {},
   "outputs": [
    {
     "name": "stdout",
     "output_type": "stream",
     "text": [
      "아, 말티푸군.\n",
      "True\n"
     ]
    }
   ],
   "source": [
    "\"\"\"\n",
    "counditional statements\n",
    "\"\"\"\n",
    "puppy = \"maltepoo\"\n",
    "is_yes = False\n",
    "\n",
    "if puppy == \"maltese\":\n",
    "    is_yes = True\n",
    "elif puppy == \"poodle\":\n",
    "    is_yes = True\n",
    "elif puppy == \"shihtzu\":\n",
    "    is_yes = True\n",
    "else:\n",
    "    print (\"아, 말티푸군.\")\n",
    "    is_yes = True\n",
    "    \n",
    "print (is_yes)"
   ]
  },
  {
   "cell_type": "code",
   "execution_count": null,
   "id": "a6a5cbdf",
   "metadata": {},
   "outputs": [],
   "source": []
  }
 ],
 "metadata": {
  "kernelspec": {
   "display_name": "Python 3",
   "language": "python",
   "name": "python3"
  },
  "language_info": {
   "codemirror_mode": {
    "name": "ipython",
    "version": 3
   },
   "file_extension": ".py",
   "mimetype": "text/x-python",
   "name": "python",
   "nbconvert_exporter": "python",
   "pygments_lexer": "ipython3",
   "version": "3.8.8"
  }
 },
 "nbformat": 4,
 "nbformat_minor": 5
}
