{
 "cells": [
  {
   "cell_type": "code",
   "execution_count": 2,
   "id": "c8efb0ab-e8b7-4028-808d-a176c4c9a5f9",
   "metadata": {},
   "outputs": [],
   "source": [
    "import pandas as pd\n",
    "import numpy as np\n",
    "from datetime import datetime\n",
    "from matplotlib import pyplot as plt"
   ]
  },
  {
   "cell_type": "code",
   "execution_count": null,
   "id": "11809218-9553-4733-9843-43d65ae3db8a",
   "metadata": {},
   "outputs": [],
   "source": [
    "def parser(x):\n",
    "    return datetime.strptime(x, '%Y-%m-%d %H:%M:%S')\n",
    "\n",
    "input_file = './data/AirQualityUCI_refined.csv'\n",
    "\n",
    "df = pd.read_csv(input_file,\n",
    "                 index_col=[0],\n",
    "                 parse_dates=[0],\n",
    "                 date_parser=parser)\n",
    "print(df.head())\n",
    "\n",
    "# Visualization setup\n",
    "%matplotlib\n",
    "from matplotlib import pyplot as plt\n",
    "import seaborn as sns\n",
    "sns.set()\n",
    "\n",
    "%config InlineBackend.figure_format = 'svg'\n",
    "plt.rcParams['figure.figsize'] = [10, 5]\n",
    "plt.ion() # enable the interactive mode"
   ]
  },
  {
   "cell_type": "code",
   "execution_count": null,
   "id": "1cbefc80-661f-41c6-8dd0-4c48f8a3a00d",
   "metadata": {},
   "outputs": [],
   "source": [
    "# Interpolate the 'CO(GT)' column\n",
    "co = df['CO(GT)'].copy()\n",
    "co.interpolate(inplace = True)"
   ]
  },
  {
   "cell_type": "code",
   "execution_count": null,
   "id": "1442ff5e-f53f-42bd-aba5-d72ece025785",
   "metadata": {},
   "outputs": [],
   "source": [
    "\"\"\"\n",
    "Binning\n",
    "\"\"\"\n",
    "\n",
    "max_val = co.max()\n",
    "min_val = co.min()\n",
    "# print(max_val, min_val)"
   ]
  },
  {
   "cell_type": "code",
   "execution_count": null,
   "id": "00fab78c-51ab-4343-8cd3-7ed214188f43",
   "metadata": {},
   "outputs": [],
   "source": [
    "# Make interval values\n",
    "bins = np.linspace(min_val, max_val, 6)"
   ]
  },
  {
   "cell_type": "code",
   "execution_count": null,
   "id": "819fbc08-373b-4e32-93f5-f8be46528b46",
   "metadata": {},
   "outputs": [],
   "source": [
    "# labels for each bin\n",
    "labels = ['0<=x<2.38', '2.38<=x<4.76', '4.76<=x<7.14','7.14<=x<9.52', '9.52<=x<11.9']"
   ]
  },
  {
   "cell_type": "code",
   "execution_count": null,
   "id": "4803abef-473f-48d0-9bae-db89cda54a12",
   "metadata": {},
   "outputs": [],
   "source": [
    "# Convert the numerical values into the categorical values\n",
    "df['bins'] = pd.cut(co, bins = bins, labels = labels, include_lowest = True)"
   ]
  },
  {
   "cell_type": "code",
   "execution_count": null,
   "id": "cf9142af-5785-46c7-b2de-4b6e4c2084af",
   "metadata": {},
   "outputs": [],
   "source": [
    "# print bins\n",
    "df['bins']"
   ]
  },
  {
   "cell_type": "code",
   "execution_count": null,
   "id": "12a4f009-c6f6-4bff-8ba5-c06cfddb95f9",
   "metadata": {},
   "outputs": [],
   "source": [
    "# Visualize the gistogram of bins\n",
    "plt.hist(df['bins'], bins = 5)\n",
    "plt.show()"
   ]
  },
  {
   "cell_type": "code",
   "execution_count": null,
   "id": "daac22db-aba5-4a1f-80fe-a137ce03e026",
   "metadata": {},
   "outputs": [],
   "source": [
    "\"\"\"\n",
    "Log Transform\n",
    "\"\"\"\n",
    "\n",
    "# Distribution of original data\n",
    "# 0인 경우에 0 divide by zero 발생 -> log계산 시\n",
    "# df.min()\n",
    "\n",
    "sns.distplot(df['PT08.S3(NOx)'])"
   ]
  },
  {
   "cell_type": "code",
   "execution_count": null,
   "id": "07807ddc-4b3a-4e52-9ee3-7af15b65e144",
   "metadata": {},
   "outputs": [],
   "source": [
    "# Calculate natural Logarithm on 'PT08.S3(NOx)' column\n",
    "df['log'] = np.log10(df['PT08.S3(NOx)'])"
   ]
  },
  {
   "cell_type": "code",
   "execution_count": null,
   "id": "07c59a3f-ba8c-4f05-be33-fda2628a92a5",
   "metadata": {},
   "outputs": [],
   "source": [
    "# Min values each columns\n",
    "df.min()"
   ]
  },
  {
   "cell_type": "code",
   "execution_count": null,
   "id": "4ebfe67d-5e2e-49be-9592-12da24289964",
   "metadata": {},
   "outputs": [],
   "source": [
    "# Distribution after log transform\n",
    "sns.distplot(df['log'])\n",
    "plt.xlabel('log(NOx)')\n",
    "plt.show()"
   ]
  },
  {
   "cell_type": "code",
   "execution_count": null,
   "id": "e0135710-ed0e-4498-abfd-f56fb0c59046",
   "metadata": {},
   "outputs": [],
   "source": [
    "\"\"\"\n",
    "One-hot Encoding\n",
    "\"\"\"\n",
    "# make a dataset\n",
    "\n",
    "emp_id = pd.Series([1, 2, 3, 4, 5])\n",
    "gender = pd.Series(['Male', 'Female', 'Female', 'Male', 'Female'])\n",
    "remarks = pd.Series(['Nice', 'Good', 'Great','Great','Nice'])\n",
    "\n",
    "df_emp = pd.DataFrame()\n",
    "df_emp['emp_id'] = emp_id\n",
    "df_emp['gender'] = gender\n",
    "df_emp['remarks'] = remarks"
   ]
  },
  {
   "cell_type": "code",
   "execution_count": null,
   "id": "52cc653c-c8a1-419d-96cf-c06b476f821e",
   "metadata": {},
   "outputs": [],
   "source": [
    "# Print unique values for each column\n",
    "\n",
    "df_emp['emp_id'].unique()\n",
    "df_emp['gender'].unique()\n",
    "df_emp['remarks'].unique()"
   ]
  },
  {
   "cell_type": "code",
   "execution_count": null,
   "id": "f0430c27-3e8d-4c0b-a873-f9a185108aa0",
   "metadata": {},
   "outputs": [],
   "source": [
    "# One-hot encoding the categorial values\n",
    "df_emp_encoded = pd.get_dummies(df_emp, columns = ['gender', 'remarks'])\n",
    "df_emp_encoded"
   ]
  },
  {
   "cell_type": "code",
   "execution_count": null,
   "id": "23017a7c-a049-402a-8fe5-63ecdf84d325",
   "metadata": {},
   "outputs": [],
   "source": [
    "\"\"\"\n",
    "Normalization\n",
    "\"\"\"\n",
    "\n",
    "# Visualize two columns of different scale\n",
    "plt.plot(df['CO(GT)'], label = 'CO')\n",
    "plt.plot(df['PT08.S3(NOx)'], label = 'NMHC')\n",
    "plt.legend(loc = 'best')"
   ]
  },
  {
   "cell_type": "code",
   "execution_count": null,
   "id": "2c356aa1-bcad-49ae-9475-d304093fb4a4",
   "metadata": {},
   "outputs": [],
   "source": [
    "# Normalize the 'CO(GT)' column\n",
    "\n",
    "co = df['CO(GT)'].copy()\n",
    "co_max = co.max()\n",
    "co_min = co.min()\n",
    "\n",
    "df['CO_Norm'] = (co - co_min) / (co_max - co_min)\n",
    "df['CO_Norm']"
   ]
  },
  {
   "cell_type": "code",
   "execution_count": null,
   "id": "646e86b0-e431-4f0f-a31d-e9c97954b97d",
   "metadata": {},
   "outputs": [],
   "source": [
    "# Normalie the 'PT08.S2(NMHC)' column\n",
    "nmhc = df['PT08.S2(NMHC)'].copy()\n",
    "nmhc_max = nmhc.max()\n",
    "nmhc_min = nmhc.min()\n",
    "\n",
    "df['NMHC_Norm'] = (nmhc - nmhc_min) / (nmhc_max - nmhc_min)\n",
    "df['NMHC_Norm']"
   ]
  },
  {
   "cell_type": "code",
   "execution_count": null,
   "id": "373096f8-cd13-46ce-913c-b307403620bb",
   "metadata": {},
   "outputs": [],
   "source": [
    "# Visualized normallized columns\n",
    "\n",
    "plt.plot(df['CO_Norm'], label = 'CO (normalized)')\n",
    "plt.plot(df['NMHC_Norm'], label = 'NMHC (normalized)')\n",
    "plt.legend(loc = 'best')"
   ]
  }
 ],
 "metadata": {
  "kernelspec": {
   "display_name": "Python 3",
   "language": "python",
   "name": "python3"
  },
  "language_info": {
   "codemirror_mode": {
    "name": "ipython",
    "version": 3
   },
   "file_extension": ".py",
   "mimetype": "text/x-python",
   "name": "python",
   "nbconvert_exporter": "python",
   "pygments_lexer": "ipython3",
   "version": "3.8.8"
  }
 },
 "nbformat": 4,
 "nbformat_minor": 5
}
