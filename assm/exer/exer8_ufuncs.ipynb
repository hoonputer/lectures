{
 "cells": [
  {
   "cell_type": "code",
   "execution_count": 1,
   "id": "00ae8535",
   "metadata": {},
   "outputs": [],
   "source": [
    "import numpy as np"
   ]
  },
  {
   "cell_type": "code",
   "execution_count": 2,
   "id": "1078dfbf",
   "metadata": {},
   "outputs": [
    {
     "name": "stdout",
     "output_type": "stream",
     "text": [
      "[3 6 8 4 2]\n"
     ]
    }
   ],
   "source": [
    "\"\"\"\n",
    "computing reciporocals in loops\n",
    "\"\"\"\n",
    "#functions for computing reciporcals using looping \n",
    "def compute_reciprocals(values):\n",
    "    output = np.empty(len(values))\n",
    "    for i in range(len(values)):\n",
    "        output[i] = 1.0/ values[i]\n",
    "    return output\n",
    "\n",
    "values = np.random.randint(1,10, size = 5)\n",
    "print(values)"
   ]
  },
  {
   "cell_type": "code",
   "execution_count": 3,
   "id": "93c172a3",
   "metadata": {},
   "outputs": [
    {
     "name": "stdout",
     "output_type": "stream",
     "text": [
      "1.84 s ± 46.9 ms per loop (mean ± std. dev. of 7 runs, 1 loop each)\n"
     ]
    }
   ],
   "source": [
    "\"\"\"\n",
    "comparison : loop vs ufuncs (vectorized)\n",
    "\"\"\"\n",
    "\n",
    "big_array = np.random.randint(1, 100, size = 1000000)\n",
    "#looping on a big array\n",
    "\n",
    "#jupyter magic function \n",
    "%timeit compute_reciprocals(big_array)"
   ]
  },
  {
   "cell_type": "code",
   "execution_count": 4,
   "id": "9b23cbf1",
   "metadata": {},
   "outputs": [
    {
     "name": "stdout",
     "output_type": "stream",
     "text": [
      "3.78 ms ± 248 µs per loop (mean ± std. dev. of 7 runs, 100 loops each)\n"
     ]
    }
   ],
   "source": [
    "%timeit 1/ big_array"
   ]
  },
  {
   "cell_type": "code",
   "execution_count": 5,
   "id": "8b3d2a0b",
   "metadata": {},
   "outputs": [
    {
     "name": "stdout",
     "output_type": "stream",
     "text": [
      "[ 3 -2  1  1  5] [9 3 5 2 4]\n",
      "[12  1  6  3  9]\n",
      "[[3 0 3 5 0]\n",
      " [2 3 8 1 3]\n",
      " [3 3 7 0 1]]\n",
      "[[ 9  0  9 25  0]\n",
      " [ 4  9 64  1  9]\n",
      " [ 9  9 49  0  1]]\n"
     ]
    }
   ],
   "source": [
    "np.random.seed(0)\n",
    "arr1 = np.random.randint(10, size = 5)\n",
    "arr2 = np.random.randint(10, size = 5)\n",
    "arr3 = np.random.randint(10, size = 5)\n",
    "arr4 = np.random.randint(10, size = 5)\n",
    "arr5 = np.random.randint(10, size = 5)\n",
    "\n",
    "\n",
    "arr1 = arr1 - 2\n",
    "print(arr1, arr2)\n",
    "arr3 = arr1 + arr2\n",
    "print(arr3)\n",
    "arr4 = np.random.randint(10, size=(3,5))\n",
    "print(arr4)\n",
    "arr5 = arr4 **2\n",
    "print(arr5)"
   ]
  },
  {
   "cell_type": "code",
   "execution_count": 6,
   "id": "2d1ec959",
   "metadata": {},
   "outputs": [
    {
     "name": "stdout",
     "output_type": "stream",
     "text": [
      "[2 1 0 1 2]\n",
      "[5. 5. 2. 1.]\n"
     ]
    }
   ],
   "source": [
    "\"\"\"\n",
    "ufuns : absolute value\n",
    "\"\"\"\n",
    "x = np.array([-2,-1,0,1,2])\n",
    "print(np.abs(x))\n",
    "\n",
    "y = np.array([3-4j, 4-3j,2+0j, 0+1j])\n",
    "print(np.abs(y))"
   ]
  },
  {
   "cell_type": "code",
   "execution_count": 7,
   "id": "5da61108",
   "metadata": {},
   "outputs": [
    {
     "name": "stdout",
     "output_type": "stream",
     "text": [
      "[  0.  25.  50.  75. 100.]\n"
     ]
    }
   ],
   "source": [
    "#linspace\n",
    "x = np.linspace(0, 100, 5)\n",
    "print(x)"
   ]
  },
  {
   "cell_type": "code",
   "execution_count": 8,
   "id": "f1cba9f9",
   "metadata": {},
   "outputs": [
    {
     "name": "stdout",
     "output_type": "stream",
     "text": [
      "[0.         1.57079633 3.14159265]\n",
      "[0.0000000e+00 1.0000000e+00 1.2246468e-16]\n",
      "[ 1.000000e+00  6.123234e-17 -1.000000e+00]\n",
      "[ 0.00000000e+00  1.63312394e+16 -1.22464680e-16]\n"
     ]
    }
   ],
   "source": [
    "\"\"\"\n",
    "trigonometic functions\n",
    "\"\"\"\n",
    "theta = np.linspace(0, np.pi, 3)\n",
    "print (theta)\n",
    "print(np.sin(theta))\n",
    "print(np.cos(theta))\n",
    "print(np.tan(theta))"
   ]
  },
  {
   "cell_type": "code",
   "execution_count": 9,
   "id": "f0903772",
   "metadata": {},
   "outputs": [
    {
     "name": "stdout",
     "output_type": "stream",
     "text": [
      "10\n",
      "24\n"
     ]
    }
   ],
   "source": [
    "\"\"\"\n",
    "ufuncs : aggregation\n",
    "\"\"\"\n",
    "# reduce()\n",
    "x = np.arange(1,5)\n",
    "aggr = np.add.reduce(x)\n",
    "print(aggr)\n",
    "aggr = np.multiply.reduce(x)\n",
    "print(aggr)"
   ]
  },
  {
   "cell_type": "code",
   "execution_count": 10,
   "id": "9f57a8f0",
   "metadata": {},
   "outputs": [
    {
     "name": "stdout",
     "output_type": "stream",
     "text": [
      "[1 2 3 4]\n",
      "[ 1  3  6 10]\n",
      "[ 1  2  6 24]\n"
     ]
    }
   ],
   "source": [
    "#accumulate()\n",
    "print (x)\n",
    "accum = np.add.accumulate(x)\n",
    "print(accum)\n",
    "accum = np.multiply.accumulate(x)\n",
    "print(accum)"
   ]
  },
  {
   "cell_type": "code",
   "execution_count": 11,
   "id": "9afa73b3",
   "metadata": {},
   "outputs": [
    {
     "name": "stdout",
     "output_type": "stream",
     "text": [
      "78.2 ms ± 3.86 ms per loop (mean ± std. dev. of 7 runs, 10 loops each)\n"
     ]
    }
   ],
   "source": [
    "#np.sum()\n",
    "np.random.seed(0)\n",
    "arr = np.random.rand(1000000)  # rand(): creat 0~1 real numbers\n",
    "np.sum(arr)\n",
    "\n",
    "%timeit sum(arr)"
   ]
  },
  {
   "cell_type": "code",
   "execution_count": 12,
   "id": "02fe0e8c",
   "metadata": {},
   "outputs": [
    {
     "name": "stdout",
     "output_type": "stream",
     "text": [
      "1.5 ms ± 101 µs per loop (mean ± std. dev. of 7 runs, 1000 loops each)\n"
     ]
    }
   ],
   "source": [
    "%timeit np.sum(arr)  # np.sum()이 파이썬 내장함수 sum()보다 훨씬 빠름"
   ]
  },
  {
   "cell_type": "code",
   "execution_count": 13,
   "id": "8736af6f",
   "metadata": {},
   "outputs": [
    {
     "name": "stdout",
     "output_type": "stream",
     "text": [
      "max =  0.9999997207656334\n",
      "min =  7.071203171893359e-07\n",
      "mean =  0.5003876981207729\n",
      "median =  0.5008080231177152\n",
      "percentile =  0.5008080231177152\n",
      "False\n",
      "True\n"
     ]
    }
   ],
   "source": [
    "#other aggregation function \n",
    "\n",
    "print(\"max = \", np.max(arr))\n",
    "print(\"min = \", np.min(arr))\n",
    "print(\"mean = \", np.mean(arr))\n",
    "print(\"median = \", np.median(arr))\n",
    "print(\"percentile = \", np.percentile(arr, 50))\n",
    "\n",
    "print(np.any(arr>1))\n",
    "print(np.all(arr>0))"
   ]
  },
  {
   "cell_type": "code",
   "execution_count": 14,
   "id": "b32f3e51",
   "metadata": {},
   "outputs": [
    {
     "name": "stdout",
     "output_type": "stream",
     "text": [
      "[[44 47 64 67]\n",
      " [67  9 83 21]\n",
      " [36 87 70 88]]\n",
      "[147 143 217 176]\n",
      "[222 180 281]\n"
     ]
    }
   ],
   "source": [
    "#multi dimensional aggregates\n",
    "\n",
    "np.random.seed(0)\n",
    "arr = np.random.randint(100, size=(3,4))\n",
    "print(arr)\n",
    "print(np.sum(arr, axis=0))\n",
    "print(np.sum(arr, axis=1))"
   ]
  },
  {
   "cell_type": "code",
   "execution_count": null,
   "id": "3c533286",
   "metadata": {},
   "outputs": [],
   "source": []
  }
 ],
 "metadata": {
  "kernelspec": {
   "display_name": "Python 3",
   "language": "python",
   "name": "python3"
  },
  "language_info": {
   "codemirror_mode": {
    "name": "ipython",
    "version": 3
   },
   "file_extension": ".py",
   "mimetype": "text/x-python",
   "name": "python",
   "nbconvert_exporter": "python",
   "pygments_lexer": "ipython3",
   "version": "3.8.8"
  }
 },
 "nbformat": 4,
 "nbformat_minor": 5
}
