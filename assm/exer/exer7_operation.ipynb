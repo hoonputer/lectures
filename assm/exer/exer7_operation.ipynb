{
 "cells": [
  {
   "cell_type": "code",
   "execution_count": 1,
   "id": "6725639e",
   "metadata": {},
   "outputs": [],
   "source": [
    "import numpy as np"
   ]
  },
  {
   "cell_type": "code",
   "execution_count": 2,
   "id": "d1117b0d",
   "metadata": {},
   "outputs": [
    {
     "name": "stdout",
     "output_type": "stream",
     "text": [
      "[0 1 2]\n",
      "[3 4 5 6 7 8]\n",
      "[3 6]\n"
     ]
    }
   ],
   "source": [
    "\"\"\"\n",
    "numpy array attributes\n",
    "\"\"\"\n",
    "#creating an array\n",
    "print(np.arange(3))\n",
    "print(np.arange(3,9))\n",
    "print(np.arange(3,9,3))"
   ]
  },
  {
   "cell_type": "code",
   "execution_count": 3,
   "id": "f1323f97",
   "metadata": {},
   "outputs": [
    {
     "name": "stdout",
     "output_type": "stream",
     "text": [
      "[5 0 3 3 7 9]\n",
      "[[3 5 2 4]\n",
      " [7 6 8 8]\n",
      " [1 6 7 7]]\n",
      "[[[8 1 5 9 8]\n",
      "  [9 4 3 0 3]\n",
      "  [5 0 2 3 8]\n",
      "  [1 3 3 3 7]]\n",
      "\n",
      " [[0 1 9 9 0]\n",
      "  [4 7 3 2 7]\n",
      "  [2 0 0 4 5]\n",
      "  [5 6 8 4 1]]\n",
      "\n",
      " [[4 9 8 1 1]\n",
      "  [7 9 9 3 6]\n",
      "  [7 2 0 3 5]\n",
      "  [9 4 4 6 4]]]\n"
     ]
    }
   ],
   "source": [
    "# random number\n",
    "np.random.seed(0) #이게 있으면 똑같은 난수 배열 생성을 한다.\n",
    "\n",
    "arr1= np.random.randint(10, size=6)\n",
    "arr2= np.random.randint(10, size=(3,4))\n",
    "arr3= np.random.randint(10, size=(3,4,5))\n",
    "print(arr1)\n",
    "print(arr2)\n",
    "print(arr3)"
   ]
  },
  {
   "cell_type": "code",
   "execution_count": 4,
   "id": "a62ed959",
   "metadata": {},
   "outputs": [
    {
     "name": "stdout",
     "output_type": "stream",
     "text": [
      "[[3 5 2 4]\n",
      " [7 6 8 8]\n",
      " [1 6 7 7]]\n",
      "arr.ndim =  2\n",
      "arr.shape =  (3, 4)\n",
      "arr.size =  12\n",
      "arr.dtype =  int32\n",
      "arr.itemsize =  4\n",
      "arr.nbytes =  48\n"
     ]
    }
   ],
   "source": [
    "#attribute\n",
    "print(arr2)\n",
    "\n",
    "print(\"arr.ndim = \", arr2.ndim)\n",
    "print(\"arr.shape = \", arr2.shape)\n",
    "print(\"arr.size = \", arr2.size)\n",
    "print(\"arr.dtype = \", arr2.dtype)\n",
    "print(\"arr.itemsize = \", arr2.itemsize)\n",
    "print(\"arr.nbytes = \", arr2.nbytes)"
   ]
  },
  {
   "cell_type": "code",
   "execution_count": 5,
   "id": "c599d52e",
   "metadata": {},
   "outputs": [
    {
     "name": "stdout",
     "output_type": "stream",
     "text": [
      "[0 1 2 3 4 5 6 7 8 9]\n",
      "[3 4 5 6]\n",
      "[0 1 2 3 4]\n",
      "[5 6 7 8 9]\n",
      "[0 3 6 9]\n",
      "[2 4 6]\n"
     ]
    }
   ],
   "source": [
    "\"\"\"\n",
    "array slicing\n",
    "\"\"\"\n",
    "arr = np.arange(10)\n",
    "print(arr)\n",
    "\n",
    "print(arr[3:7])\n",
    "print(arr[:5])\n",
    "print(arr[5:])\n",
    "print(arr[::3])\n",
    "print(arr[2:8:2])"
   ]
  },
  {
   "cell_type": "code",
   "execution_count": 6,
   "id": "c63d3945",
   "metadata": {},
   "outputs": [
    {
     "name": "stdout",
     "output_type": "stream",
     "text": [
      "[[5 0 3 3 7 9 3 5]\n",
      " [2 4 7 6 8 8 1 6]\n",
      " [7 7 8 1 5 9 8 9]\n",
      " [4 3 0 3 5 0 2 3]\n",
      " [8 1 3 3 3 7 0 1]\n",
      " [9 9 0 4 7 3 2 7]]\n",
      "[[5 0]\n",
      " [3 7]]\n"
     ]
    }
   ],
   "source": [
    "#multi-dimensional \n",
    "np.random.seed(0)\n",
    "arr = np.random.randint(10, size=(6,8))\n",
    "print(arr)\n",
    "arr_sub = arr[3:5, 4:6]\n",
    "print(arr_sub)"
   ]
  },
  {
   "cell_type": "code",
   "execution_count": 7,
   "id": "dffe7e16",
   "metadata": {},
   "outputs": [
    {
     "name": "stdout",
     "output_type": "stream",
     "text": [
      "[[5 0 3 3]\n",
      " [7 9 3 5]\n",
      " [2 4 7 6]] \n",
      "\n",
      "[[5 0]\n",
      " [7 9]] \n",
      "\n",
      "[[99  0]\n",
      " [ 7  9]] \n",
      "\n",
      "[[99  0  3  3]\n",
      " [ 7  9  3  5]\n",
      " [ 2  4  7  6]] \n",
      "\n"
     ]
    }
   ],
   "source": [
    "#subarrays as no-copy views\n",
    "np.random.seed(0)\n",
    "arr = np.random.randint(10, size=(3,4))\n",
    "print(arr,\"\\n\")\n",
    "arr_sub = arr[:2,:2]\n",
    "print(arr_sub,\"\\n\")\n",
    "\n",
    "#배열 슬라이스 값을 변경\n",
    "arr_sub[0,0] = 99\n",
    "print(arr_sub,\"\\n\")\n",
    "\n",
    "#원본배열 값도 변경됨\n",
    "print(arr,\"\\n\")"
   ]
  },
  {
   "cell_type": "code",
   "execution_count": 8,
   "id": "b2692fc4",
   "metadata": {},
   "outputs": [
    {
     "name": "stdout",
     "output_type": "stream",
     "text": [
      "[[5 0 3 3]\n",
      " [7 9 3 5]\n",
      " [2 4 7 6]] \n",
      "\n",
      "[[5 0]\n",
      " [7 9]] \n",
      "\n",
      "[[99  0]\n",
      " [ 7  9]] \n",
      "\n",
      "[[5 0 3 3]\n",
      " [7 9 3 5]\n",
      " [2 4 7 6]] \n",
      "\n"
     ]
    }
   ],
   "source": [
    "#.copy() -> 복사본 생성 \n",
    "np.random.seed(0)\n",
    "arr = np.random.randint(10, size=(3,4))\n",
    "print(arr,\"\\n\")\n",
    "\n",
    "arr_sub = arr[:2, :2].copy()\n",
    "print(arr_sub,\"\\n\")\n",
    "arr_sub[0,0] = 99\n",
    "print(arr_sub,\"\\n\")\n",
    "\n",
    "#복사본의 배열 값을 변경했기 때문에, 원본 베열 값은 변하지 않는다. \n",
    "print(arr,\"\\n\")"
   ]
  },
  {
   "cell_type": "code",
   "execution_count": 9,
   "id": "de59f088",
   "metadata": {},
   "outputs": [
    {
     "name": "stdout",
     "output_type": "stream",
     "text": [
      "[1 2 3]\n",
      "arr.ndim =  1\n",
      "arr.shape =  (3,)\n",
      "[[1 2 3]]\n",
      "arr_new.ndim =  2\n",
      "arr_new.shape =  (1, 3)\n",
      "[[1]\n",
      " [2]\n",
      " [3]]\n",
      "arr_new2.ndim =  2\n",
      "arr_new2.shape =  (3, 1)\n"
     ]
    }
   ],
   "source": [
    "#np.newaxis\n",
    "arr = np.array([1,2,3])\n",
    "print(arr)\n",
    "print(\"arr.ndim = \", arr.ndim)\n",
    "print(\"arr.shape = \", arr.shape)\n",
    "\n",
    "arr_new = arr[np.newaxis, :]\n",
    "print(arr_new)\n",
    "print(\"arr_new.ndim = \", arr_new.ndim)\n",
    "print(\"arr_new.shape = \", arr_new.shape)\n",
    "\n",
    "arr_new2 = arr[:,np.newaxis]\n",
    "print(arr_new2)\n",
    "print(\"arr_new2.ndim = \", arr_new2.ndim)\n",
    "print(\"arr_new2.shape = \", arr_new2.shape)"
   ]
  },
  {
   "cell_type": "code",
   "execution_count": 10,
   "id": "d4a658dd",
   "metadata": {},
   "outputs": [
    {
     "name": "stdout",
     "output_type": "stream",
     "text": [
      "[1 2 3 4 5 6 7 8 9] \n",
      "\n"
     ]
    }
   ],
   "source": [
    "\"\"\"\n",
    "array concatenation\n",
    "\"\"\"\n",
    "arr_1 = ([1,2,3])\n",
    "arr_2 = ([4,5,6])\n",
    "arr_3 = ([7,8,9])\n",
    "\n",
    "arr_total = np.concatenate([arr_1, arr_2,arr_3])\n",
    "print (arr_total,'\\n')"
   ]
  },
  {
   "cell_type": "code",
   "execution_count": 11,
   "id": "1a12a8f8",
   "metadata": {},
   "outputs": [
    {
     "name": "stdout",
     "output_type": "stream",
     "text": [
      "[1, 2, 3, 99, 99, 3, 2, 1] \n",
      "\n",
      "[1 2 3] [99 99] [3 2 1]\n"
     ]
    }
   ],
   "source": [
    "\"\"\"\n",
    "array splitting\n",
    "\"\"\"\n",
    "arr = [1,2,3,99,99,3,2,1]\n",
    "print(arr,'\\n')\n",
    "\n",
    "arr_1, arr_2, arr_3 =np.split(arr, [3,5])\n",
    "print(arr_1, arr_2, arr_3)"
   ]
  },
  {
   "cell_type": "code",
   "execution_count": null,
   "id": "4266a02d",
   "metadata": {},
   "outputs": [],
   "source": []
  }
 ],
 "metadata": {
  "kernelspec": {
   "display_name": "Python 3",
   "language": "python",
   "name": "python3"
  },
  "language_info": {
   "codemirror_mode": {
    "name": "ipython",
    "version": 3
   },
   "file_extension": ".py",
   "mimetype": "text/x-python",
   "name": "python",
   "nbconvert_exporter": "python",
   "pygments_lexer": "ipython3",
   "version": "3.8.8"
  }
 },
 "nbformat": 4,
 "nbformat_minor": 5
}
